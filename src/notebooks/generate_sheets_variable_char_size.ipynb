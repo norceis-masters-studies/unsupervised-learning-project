{
 "cells": [
  {
   "cell_type": "code",
   "execution_count": 1,
   "outputs": [],
   "source": [
    "import sys\n",
    "\n",
    "# append root project directory so packages will be available\n",
    "sys.path.append('../..')"
   ],
   "metadata": {
    "collapsed": false
   }
  },
  {
   "cell_type": "code",
   "execution_count": 2,
   "outputs": [],
   "source": [
    "import numpy as np\n",
    "import pandas as pd\n",
    "import matplotlib.pyplot as plt\n",
    "import src.utility.letter_operations as lo\n",
    "import cv2\n",
    "from src.utility import dataset_loader\n",
    "import re\n",
    "from pathlib import Path\n",
    "\n",
    "FILE_PATH = Path().parent.as_posix() + \"/\"\n",
    "\n",
    "# np.random.seed(1)\n",
    "\n",
    "plt.style.use('grayscale')\n",
    "\n",
    "\n",
    "# sheet parameters\n",
    "columns = 80\n",
    "rows = 114\n",
    "cell = 32\n",
    "max_chars = columns * rows\n",
    "\n",
    "noise = 127"
   ],
   "metadata": {
    "collapsed": false
   }
  },
  {
   "cell_type": "markdown",
   "source": [
    "# Load letters images and mappings for KUZUSHIJI-49 and EMNIST-BYMERGE"
   ],
   "metadata": {
    "collapsed": false
   }
  },
  {
   "cell_type": "code",
   "execution_count": 3,
   "outputs": [
    {
     "name": "stdout",
     "output_type": "stream",
     "text": [
      "49\n"
     ]
    }
   ],
   "source": [
    "kuzushiji_letters, kuzushiji_mapping = dataset_loader.load_kuzushiji()\n",
    "del kuzushiji_mapping[48] # deleting iterative character\n",
    "print(len(kuzushiji_letters))"
   ],
   "metadata": {
    "collapsed": false
   }
  },
  {
   "cell_type": "code",
   "execution_count": 4,
   "outputs": [
    {
     "name": "stdout",
     "output_type": "stream",
     "text": [
      "6000\n",
      "6000\n",
      "6000\n",
      "777\n",
      "6000\n",
      "6000\n",
      "6000\n",
      "6000\n",
      "4714\n",
      "6000\n",
      "6000\n",
      "6000\n",
      "6000\n",
      "4165\n",
      "3867\n",
      "6000\n",
      "2565\n",
      "6000\n",
      "6000\n",
      "6000\n",
      "6000\n",
      "6000\n",
      "2063\n",
      "2451\n",
      "6000\n",
      "6000\n",
      "5132\n",
      "6000\n",
      "6000\n",
      "1993\n",
      "6000\n",
      "3060\n",
      "1718\n",
      "3394\n",
      "6000\n",
      "6000\n",
      "1598\n",
      "6000\n",
      "6000\n",
      "6000\n",
      "6000\n",
      "6000\n",
      "2139\n",
      "2397\n",
      "417\n",
      "392\n",
      "6000\n",
      "6000\n",
      "3523\n"
     ]
    }
   ],
   "source": [
    "for i in kuzushiji_letters:\n",
    "    print(len(kuzushiji_letters[i]))"
   ],
   "metadata": {
    "collapsed": false
   }
  },
  {
   "cell_type": "code",
   "execution_count": 5,
   "outputs": [
    {
     "name": "stderr",
     "output_type": "stream",
     "text": [
      "Downloading emnist.zip: 536MB [04:06, 2.28MB/s]                             \n"
     ]
    },
    {
     "name": "stdout",
     "output_type": "stream",
     "text": [
      "47\n"
     ]
    }
   ],
   "source": [
    "emnist_letters, emnist_mapping = dataset_loader.load_emnist_bymerge()\n",
    "emnist_mapping_inverted = {v: k for k, v in emnist_mapping.items()}\n",
    "print(len(emnist_letters))"
   ],
   "metadata": {
    "collapsed": false
   }
  },
  {
   "cell_type": "code",
   "execution_count": 6,
   "outputs": [
    {
     "name": "stdout",
     "output_type": "stream",
     "text": [
      "34618\n",
      "38304\n",
      "34307\n",
      "35285\n",
      "33656\n",
      "31280\n",
      "34150\n",
      "36020\n",
      "33924\n",
      "33882\n",
      "6411\n",
      "3874\n",
      "12963\n",
      "4606\n",
      "4925\n",
      "9098\n",
      "2534\n",
      "3097\n",
      "14733\n",
      "5689\n",
      "4998\n",
      "20381\n",
      "11612\n",
      "8237\n",
      "27664\n",
      "10748\n",
      "2603\n",
      "5047\n",
      "23509\n",
      "9766\n",
      "15388\n",
      "7588\n",
      "7403\n",
      "5598\n",
      "7092\n",
      "5416\n",
      "10009\n",
      "5080\n",
      "10152\n",
      "24657\n",
      "2535\n",
      "3693\n",
      "8682\n",
      "11444\n",
      "2966\n",
      "14060\n",
      "18248\n"
     ]
    }
   ],
   "source": [
    "for i in emnist_letters:\n",
    "    print(len(emnist_letters[i]))"
   ],
   "metadata": {
    "collapsed": false
   }
  },
  {
   "cell_type": "markdown",
   "source": [
    "# Load text data"
   ],
   "metadata": {
    "collapsed": false
   }
  },
  {
   "cell_type": "code",
   "execution_count": 7,
   "outputs": [],
   "source": [
    "with open('../../data/winnie_the_pooh/pg67098.txt', 'r') as file:\n",
    "    data = file.read()"
   ],
   "metadata": {
    "collapsed": false
   }
  },
  {
   "cell_type": "code",
   "execution_count": 8,
   "outputs": [
    {
     "data": {
      "text/plain": "['ď',\n '»',\n 'ż',\n 'T',\n 'h',\n 'e',\n ' ',\n 'P',\n 'r',\n 'o',\n 'j',\n 'e',\n 'c',\n 't',\n ' ',\n 'G',\n 'u',\n 't',\n 'e',\n 'n',\n 'b',\n 'e',\n 'r',\n 'g',\n ' ',\n 'e',\n 'B',\n 'o',\n 'o',\n 'k',\n ' ',\n 'o',\n 'f',\n ' ',\n 'W',\n 'i',\n 'n',\n 'n',\n 'i',\n 'e',\n '-',\n 't',\n 'h',\n 'e',\n '-',\n 'P',\n 'o',\n 'o',\n 'h',\n ',',\n ' ',\n 'b',\n 'y',\n ' ',\n 'A',\n '.',\n ' ',\n 'A',\n '.',\n ' ',\n 'M',\n 'i',\n 'l',\n 'n',\n 'e',\n '\\n',\n '\\n',\n 'T',\n 'h',\n 'i',\n 's',\n ' ',\n 'e',\n 'B',\n 'o',\n 'o',\n 'k',\n ' ',\n 'i',\n 's',\n ' ',\n 'f',\n 'o',\n 'r',\n ' ',\n 't',\n 'h',\n 'e',\n ' ',\n 'u',\n 's',\n 'e',\n ' ',\n 'o',\n 'f',\n ' ',\n 'a',\n 'n',\n 'y',\n 'o',\n 'n',\n 'e',\n ' ',\n 'a',\n 'n',\n 'y',\n 'w',\n 'h',\n 'e',\n 'r',\n 'e',\n ' ',\n 'i',\n 'n',\n ' ',\n 't',\n 'h',\n 'e',\n ' ',\n 'U',\n 'n',\n 'i',\n 't',\n 'e',\n 'd',\n ' ',\n 'S',\n 't',\n 'a',\n 't',\n 'e',\n 's',\n ' ',\n 'a',\n 'n',\n 'd',\n '\\n',\n 'm',\n 'o',\n 's',\n 't',\n ' ',\n 'o',\n 't',\n 'h',\n 'e',\n 'r',\n ' ',\n 'p',\n 'a',\n 'r',\n 't',\n 's',\n ' ',\n 'o',\n 'f',\n ' ',\n 't',\n 'h',\n 'e',\n ' ',\n 'w',\n 'o',\n 'r',\n 'l',\n 'd',\n ' ',\n 'a',\n 't',\n ' ',\n 'n',\n 'o',\n ' ',\n 'c',\n 'o',\n 's',\n 't',\n ' ',\n 'a',\n 'n',\n 'd',\n ' ',\n 'w',\n 'i',\n 't',\n 'h',\n ' ',\n 'a',\n 'l',\n 'm',\n 'o',\n 's',\n 't',\n ' ',\n 'n',\n 'o',\n ' ',\n 'r',\n 'e',\n 's',\n 't',\n 'r',\n 'i',\n 'c',\n 't',\n 'i',\n 'o',\n 'n',\n 's',\n '\\n',\n 'w',\n 'h',\n 'a',\n 't',\n 's',\n 'o',\n 'e',\n 'v',\n 'e',\n 'r',\n '.',\n ' ',\n 'Y',\n 'o',\n 'u',\n ' ',\n 'm',\n 'a',\n 'y',\n ' ',\n 'c',\n 'o',\n 'p',\n 'y',\n ' ',\n 'i',\n 't',\n ',',\n ' ',\n 'g',\n 'i',\n 'v',\n 'e',\n ' ',\n 'i',\n 't',\n ' ',\n 'a',\n 'w',\n 'a',\n 'y',\n ' ',\n 'o',\n 'r',\n ' ',\n 'r',\n 'e',\n '-',\n 'u',\n 's',\n 'e',\n ' ',\n 'i',\n 't',\n ' ',\n 'u',\n 'n',\n 'd',\n 'e',\n 'r',\n ' ',\n 't',\n 'h',\n 'e',\n ' ',\n 't',\n 'e',\n 'r',\n 'm',\n 's',\n '\\n',\n 'o',\n 'f',\n ' ',\n 't',\n 'h',\n 'e',\n ' ',\n 'P',\n 'r',\n 'o',\n 'j',\n 'e',\n 'c',\n 't',\n ' ',\n 'G',\n 'u',\n 't',\n 'e',\n 'n',\n 'b',\n 'e',\n 'r',\n 'g',\n ' ',\n 'L',\n 'i',\n 'c',\n 'e',\n 'n',\n 's',\n 'e',\n ' ',\n 'i',\n 'n',\n 'c',\n 'l',\n 'u',\n 'd',\n 'e',\n 'd',\n ' ',\n 'w',\n 'i',\n 't',\n 'h',\n ' ',\n 't',\n 'h',\n 'i',\n 's',\n ' ',\n 'e',\n 'B',\n 'o',\n 'o',\n 'k',\n ' ',\n 'o',\n 'r',\n ' ',\n 'o',\n 'n',\n 'l',\n 'i',\n 'n',\n 'e',\n ' ',\n 'a',\n 't',\n '\\n',\n 'w',\n 'w',\n 'w',\n '.',\n 'g',\n 'u',\n 't',\n 'e',\n 'n',\n 'b',\n 'e',\n 'r',\n 'g',\n '.',\n 'o',\n 'r',\n 'g',\n '.',\n ' ',\n 'I',\n 'f',\n ' ',\n 'y',\n 'o',\n 'u',\n ' ',\n 'a',\n 'r',\n 'e',\n ' ',\n 'n',\n 'o',\n 't',\n ' ',\n 'l',\n 'o',\n 'c',\n 'a',\n 't',\n 'e',\n 'd',\n ' ',\n 'i',\n 'n',\n ' ',\n 't',\n 'h',\n 'e',\n ' ',\n 'U',\n 'n',\n 'i',\n 't',\n 'e',\n 'd',\n ' ',\n 'S',\n 't',\n 'a',\n 't',\n 'e',\n 's',\n ',',\n ' ',\n 'y',\n 'o',\n 'u',\n '\\n',\n 'w',\n 'i',\n 'l',\n 'l',\n ' ',\n 'h',\n 'a',\n 'v',\n 'e',\n ' ',\n 't',\n 'o',\n ' ',\n 'c',\n 'h',\n 'e',\n 'c',\n 'k',\n ' ',\n 't',\n 'h',\n 'e',\n ' ',\n 'l',\n 'a',\n 'w',\n 's',\n ' ',\n 'o',\n 'f',\n ' ',\n 't',\n 'h',\n 'e',\n ' ',\n 'c',\n 'o',\n 'u',\n 'n',\n 't',\n 'r',\n 'y',\n ' ',\n 'w',\n 'h',\n 'e',\n 'r',\n 'e',\n ' ',\n 'y',\n 'o',\n 'u',\n ' ',\n 'a',\n 'r',\n 'e',\n ' ',\n 'l',\n 'o',\n 'c',\n 'a',\n 't',\n 'e',\n 'd',\n ' ',\n 'b',\n 'e',\n 'f',\n 'o',\n 'r',\n 'e',\n '\\n',\n 'u',\n 's',\n 'i',\n 'n',\n 'g',\n ' ',\n 't',\n 'h',\n 'i',\n 's',\n ' ',\n 'e',\n 'B',\n 'o',\n 'o',\n 'k',\n '.',\n '\\n',\n '\\n',\n 'T',\n 'i',\n 't',\n 'l',\n 'e',\n ':',\n ' ',\n 'W',\n 'i',\n 'n',\n 'n',\n 'i',\n 'e',\n '-',\n 't',\n 'h',\n 'e',\n '-',\n 'P',\n 'o',\n 'o',\n 'h',\n '\\n',\n '\\n',\n 'A',\n 'u',\n 't',\n 'h',\n 'o',\n 'r',\n ':',\n ' ',\n 'A',\n '.',\n ' ',\n 'A',\n '.',\n ' ',\n 'M',\n 'i',\n 'l',\n 'n',\n 'e',\n '\\n',\n '\\n',\n 'I',\n 'l',\n 'l',\n 'u',\n 's',\n 't',\n 'r',\n 'a',\n 't',\n 'o',\n 'r',\n ':',\n ' ',\n 'E',\n 'r',\n 'n',\n 'e',\n 's',\n 't',\n ' ',\n 'H',\n '.',\n ' ',\n 'S',\n 'h',\n 'e',\n 'p',\n 'a',\n 'r',\n 'd',\n '\\n',\n '\\n',\n 'R',\n 'e',\n 'l',\n 'e',\n 'a',\n 's',\n 'e',\n ' ',\n 'D',\n 'a',\n 't',\n 'e',\n ':',\n ' ',\n 'J',\n 'a',\n 'n',\n 'u',\n 'a',\n 'r',\n 'y',\n ' ',\n '3',\n ',',\n ' ',\n '2',\n '0',\n '2',\n '2',\n ' ',\n '[',\n 'e',\n 'B',\n 'o',\n 'o',\n 'k',\n ' ',\n '#',\n '6',\n '7',\n '0',\n '9',\n '8',\n ']',\n '\\n',\n '[',\n 'M',\n 'o',\n 's',\n 't',\n ' ',\n 'r',\n 'e',\n 'c',\n 'e',\n 'n',\n 't',\n 'l',\n 'y',\n ' ',\n 'u',\n 'p',\n 'd',\n 'a',\n 't',\n 'e',\n 'd',\n ':',\n ' ',\n 'O',\n 'c',\n 't',\n 'o',\n 'b',\n 'e',\n 'r',\n ' ',\n '1',\n '2',\n ',',\n ' ',\n '2',\n '0',\n '2',\n '2',\n ']',\n '\\n',\n '\\n',\n 'L',\n 'a',\n 'n',\n 'g',\n 'u',\n 'a',\n 'g',\n 'e',\n ':',\n ' ',\n 'E',\n 'n',\n 'g',\n 'l',\n 'i',\n 's',\n 'h',\n '\\n',\n '\\n',\n 'P',\n 'r',\n 'o',\n 'd',\n 'u',\n 'c',\n 'e',\n 'd',\n ' ',\n 'b',\n 'y',\n ':',\n ' ',\n 'G',\n 'r',\n 'e',\n 'g',\n ' ',\n 'W',\n 'e',\n 'e',\n 'k',\n 's',\n ',',\n ' ',\n 'M',\n 'a',\n 'r',\n 'y',\n ' ',\n 'M',\n 'e',\n 'e',\n 'h',\n 'a',\n 'n',\n ',',\n ' ',\n 'I',\n 'o',\n 'n',\n 'a',\n ' ',\n 'V',\n 'a',\n 'u',\n 'g',\n 'h',\n 'a',\n 'n',\n ',',\n ' ',\n 'D',\n 'a',\n 'v',\n 'i',\n 'd',\n ' ',\n 'T',\n '.',\n ' ',\n 'J',\n 'o',\n 'n',\n 'e',\n 's',\n ' ',\n 'a',\n 'n',\n 'd',\n ' ',\n 't',\n 'h',\n 'e',\n '\\n',\n ' ',\n ' ',\n ' ',\n ' ',\n ' ',\n ' ',\n ' ',\n ' ',\n ' ',\n ' ',\n ' ',\n ' ',\n ' ',\n 'o',\n 'n',\n 'l',\n 'i',\n 'n',\n 'e',\n ' ',\n 'D',\n 'i',\n 's',\n 't',\n 'r',\n 'i',\n 'b',\n 'u',\n 't',\n 'e',\n 'd',\n ' ',\n 'P',\n 'r',\n 'o',\n 'o',\n 'f',\n 'r',\n 'e',\n 'a',\n 'd',\n 'e',\n 'r',\n 's',\n ' ',\n 'C',\n 'a',\n 'n',\n 'a',\n 'd',\n 'a',\n ' ',\n 't',\n 'e',\n 'a',\n 'm',\n ' ',\n 'a',\n 't',\n '\\n',\n ' ',\n ' ',\n ' ',\n ' ',\n ' ',\n ' ',\n ' ',\n ' ',\n ' ',\n ' ',\n ' ',\n ' ',\n ' ',\n 'h',\n 't',\n 't',\n 'p',\n ':',\n '/',\n '/',\n 'w',\n 'w',\n 'w',\n '.',\n 'p',\n 'g',\n 'd',\n 'p',\n 'c',\n 'a',\n 'n',\n 'a',\n 'd',\n 'a',\n '.',\n 'n',\n 'e',\n 't',\n '\\n',\n '\\n',\n '*',\n '*',\n '*',\n ' ',\n 'S',\n 'T',\n 'A',\n 'R',\n 'T',\n ' ',\n 'O',\n 'F',\n ' ',\n 'T',\n 'H',\n 'E',\n ' ',\n 'P',\n 'R',\n 'O',\n 'J',\n 'E',\n 'C',\n 'T',\n ' ',\n 'G',\n 'U',\n 'T',\n 'E',\n 'N',\n 'B',\n 'E',\n 'R',\n 'G',\n ' ',\n 'E',\n 'B',\n 'O',\n 'O',\n 'K',\n ' ',\n 'W',\n 'I',\n 'N',\n 'N',\n 'I',\n 'E',\n '-',\n 'T',\n 'H',\n 'E',\n '-',\n 'P',\n 'O',\n 'O',\n 'H',\n ' ',\n '*',\n '*',\n '*',\n '\\n',\n '\\n',\n '\\n',\n '\\n',\n '\\n',\n '\\n',\n ' ',\n ' ',\n ' ',\n ' ',\n ' ',\n ' ',\n ' ',\n ' ',\n ' ',\n ' ',\n ' ',\n ' ',\n ' ',\n ' ',\n ' ',\n ' ',\n ' ',\n ' ',\n ' ',\n ' ',\n ' ',\n ' ',\n ' ',\n ' ',\n ' ',\n ' ',\n ' ',\n ' ',\n 'W',\n 'I',\n 'N',\n 'N',\n 'I',\n 'E',\n '-',\n 'T',\n 'H',\n 'E',\n '-',\n 'P',\n 'O',\n 'O',\n 'H',\n '\\n',\n '\\n',\n ' ',\n ' ',\n ' ',\n ' ',\n ' ',\n ' ',\n ' ',\n ' ',\n ' ',\n ' ',\n ' ',\n ' ',\n ' ',\n ' ',\n ' ',\n ' ',\n ' ',\n ' ',\n ' ',\n ...]"
     },
     "execution_count": 8,
     "metadata": {},
     "output_type": "execute_result"
    }
   ],
   "source": [
    "list(data)"
   ],
   "metadata": {
    "collapsed": false
   }
  },
  {
   "cell_type": "markdown",
   "source": [
    "### Process text to only contain letters, numbers and whitespaces\n",
    "\n",
    "also currently we start from chapter 1 (might change in future)"
   ],
   "metadata": {
    "collapsed": false
   }
  },
  {
   "cell_type": "code",
   "execution_count": 9,
   "outputs": [],
   "source": [
    "pattern = re.compile('^[a-zA-Z0-9 ]*$')\n",
    "\n",
    "result = \"\".join([s for s in data if pattern.match(s)])\n",
    "result = list(result)"
   ],
   "metadata": {
    "collapsed": false
   }
  },
  {
   "cell_type": "markdown",
   "source": [
    "### Display text to verify processing results"
   ],
   "metadata": {
    "collapsed": false
   }
  },
  {
   "cell_type": "code",
   "execution_count": 10,
   "outputs": [
    {
     "data": {
      "text/plain": "['T',\n 'h',\n 'e',\n ' ',\n 'P',\n 'r',\n 'o',\n 'j',\n 'e',\n 'c',\n 't',\n ' ',\n 'G',\n 'u',\n 't',\n 'e',\n 'n',\n 'b',\n 'e',\n 'r',\n 'g',\n ' ',\n 'e',\n 'B',\n 'o',\n 'o',\n 'k',\n ' ',\n 'o',\n 'f',\n ' ',\n 'W',\n 'i',\n 'n',\n 'n',\n 'i',\n 'e',\n 't',\n 'h',\n 'e',\n 'P',\n 'o',\n 'o',\n 'h',\n ' ',\n 'b',\n 'y',\n ' ',\n 'A',\n ' ',\n 'A',\n ' ',\n 'M',\n 'i',\n 'l',\n 'n',\n 'e',\n '\\n',\n '\\n',\n 'T',\n 'h',\n 'i',\n 's',\n ' ',\n 'e',\n 'B',\n 'o',\n 'o',\n 'k',\n ' ',\n 'i',\n 's',\n ' ',\n 'f',\n 'o',\n 'r',\n ' ',\n 't',\n 'h',\n 'e',\n ' ',\n 'u',\n 's',\n 'e',\n ' ',\n 'o',\n 'f',\n ' ',\n 'a',\n 'n',\n 'y',\n 'o',\n 'n',\n 'e',\n ' ',\n 'a',\n 'n',\n 'y',\n 'w',\n 'h',\n 'e',\n 'r',\n 'e',\n ' ',\n 'i',\n 'n',\n ' ',\n 't',\n 'h',\n 'e',\n ' ',\n 'U',\n 'n',\n 'i',\n 't',\n 'e',\n 'd',\n ' ',\n 'S',\n 't',\n 'a',\n 't',\n 'e',\n 's',\n ' ',\n 'a',\n 'n',\n 'd',\n '\\n',\n 'm',\n 'o',\n 's',\n 't',\n ' ',\n 'o',\n 't',\n 'h',\n 'e',\n 'r',\n ' ',\n 'p',\n 'a',\n 'r',\n 't',\n 's',\n ' ',\n 'o',\n 'f',\n ' ',\n 't',\n 'h',\n 'e',\n ' ',\n 'w',\n 'o',\n 'r',\n 'l',\n 'd',\n ' ',\n 'a',\n 't',\n ' ',\n 'n',\n 'o',\n ' ',\n 'c',\n 'o',\n 's',\n 't',\n ' ',\n 'a',\n 'n',\n 'd',\n ' ',\n 'w',\n 'i',\n 't',\n 'h',\n ' ',\n 'a',\n 'l',\n 'm',\n 'o',\n 's',\n 't',\n ' ',\n 'n',\n 'o',\n ' ',\n 'r',\n 'e',\n 's',\n 't',\n 'r',\n 'i',\n 'c',\n 't',\n 'i',\n 'o',\n 'n',\n 's',\n '\\n',\n 'w',\n 'h',\n 'a',\n 't',\n 's',\n 'o',\n 'e',\n 'v',\n 'e',\n 'r',\n ' ',\n 'Y',\n 'o',\n 'u',\n ' ',\n 'm',\n 'a',\n 'y',\n ' ',\n 'c',\n 'o',\n 'p',\n 'y',\n ' ',\n 'i',\n 't',\n ' ',\n 'g',\n 'i',\n 'v',\n 'e',\n ' ',\n 'i',\n 't',\n ' ',\n 'a',\n 'w',\n 'a',\n 'y',\n ' ',\n 'o',\n 'r',\n ' ',\n 'r',\n 'e',\n 'u',\n 's',\n 'e',\n ' ',\n 'i',\n 't',\n ' ',\n 'u',\n 'n',\n 'd',\n 'e',\n 'r',\n ' ',\n 't',\n 'h',\n 'e',\n ' ',\n 't',\n 'e',\n 'r',\n 'm',\n 's',\n '\\n',\n 'o',\n 'f',\n ' ',\n 't',\n 'h',\n 'e',\n ' ',\n 'P',\n 'r',\n 'o',\n 'j',\n 'e',\n 'c',\n 't',\n ' ',\n 'G',\n 'u',\n 't',\n 'e',\n 'n',\n 'b',\n 'e',\n 'r',\n 'g',\n ' ',\n 'L',\n 'i',\n 'c',\n 'e',\n 'n',\n 's',\n 'e',\n ' ',\n 'i',\n 'n',\n 'c',\n 'l',\n 'u',\n 'd',\n 'e',\n 'd',\n ' ',\n 'w',\n 'i',\n 't',\n 'h',\n ' ',\n 't',\n 'h',\n 'i',\n 's',\n ' ',\n 'e',\n 'B',\n 'o',\n 'o',\n 'k',\n ' ',\n 'o',\n 'r',\n ' ',\n 'o',\n 'n',\n 'l',\n 'i',\n 'n',\n 'e',\n ' ',\n 'a',\n 't',\n '\\n',\n 'w',\n 'w',\n 'w',\n 'g',\n 'u',\n 't',\n 'e',\n 'n',\n 'b',\n 'e',\n 'r',\n 'g',\n 'o',\n 'r',\n 'g',\n ' ',\n 'I',\n 'f',\n ' ',\n 'y',\n 'o',\n 'u',\n ' ',\n 'a',\n 'r',\n 'e',\n ' ',\n 'n',\n 'o',\n 't',\n ' ',\n 'l',\n 'o',\n 'c',\n 'a',\n 't',\n 'e',\n 'd',\n ' ',\n 'i',\n 'n',\n ' ',\n 't',\n 'h',\n 'e',\n ' ',\n 'U',\n 'n',\n 'i',\n 't',\n 'e',\n 'd',\n ' ',\n 'S',\n 't',\n 'a',\n 't',\n 'e',\n 's',\n ' ',\n 'y',\n 'o',\n 'u',\n '\\n',\n 'w',\n 'i',\n 'l',\n 'l',\n ' ',\n 'h',\n 'a',\n 'v',\n 'e',\n ' ',\n 't',\n 'o',\n ' ',\n 'c',\n 'h',\n 'e',\n 'c',\n 'k',\n ' ',\n 't',\n 'h',\n 'e',\n ' ',\n 'l',\n 'a',\n 'w',\n 's',\n ' ',\n 'o',\n 'f',\n ' ',\n 't',\n 'h',\n 'e',\n ' ',\n 'c',\n 'o',\n 'u',\n 'n',\n 't',\n 'r',\n 'y',\n ' ',\n 'w',\n 'h',\n 'e',\n 'r',\n 'e',\n ' ',\n 'y',\n 'o',\n 'u',\n ' ',\n 'a',\n 'r',\n 'e',\n ' ',\n 'l',\n 'o',\n 'c',\n 'a',\n 't',\n 'e',\n 'd',\n ' ',\n 'b',\n 'e',\n 'f',\n 'o',\n 'r',\n 'e',\n '\\n',\n 'u',\n 's',\n 'i',\n 'n',\n 'g',\n ' ',\n 't',\n 'h',\n 'i',\n 's',\n ' ',\n 'e',\n 'B',\n 'o',\n 'o',\n 'k',\n '\\n',\n '\\n',\n 'T',\n 'i',\n 't',\n 'l',\n 'e',\n ' ',\n 'W',\n 'i',\n 'n',\n 'n',\n 'i',\n 'e',\n 't',\n 'h',\n 'e',\n 'P',\n 'o',\n 'o',\n 'h',\n '\\n',\n '\\n',\n 'A',\n 'u',\n 't',\n 'h',\n 'o',\n 'r',\n ' ',\n 'A',\n ' ',\n 'A',\n ' ',\n 'M',\n 'i',\n 'l',\n 'n',\n 'e',\n '\\n',\n '\\n',\n 'I',\n 'l',\n 'l',\n 'u',\n 's',\n 't',\n 'r',\n 'a',\n 't',\n 'o',\n 'r',\n ' ',\n 'E',\n 'r',\n 'n',\n 'e',\n 's',\n 't',\n ' ',\n 'H',\n ' ',\n 'S',\n 'h',\n 'e',\n 'p',\n 'a',\n 'r',\n 'd',\n '\\n',\n '\\n',\n 'R',\n 'e',\n 'l',\n 'e',\n 'a',\n 's',\n 'e',\n ' ',\n 'D',\n 'a',\n 't',\n 'e',\n ' ',\n 'J',\n 'a',\n 'n',\n 'u',\n 'a',\n 'r',\n 'y',\n ' ',\n '3',\n ' ',\n '2',\n '0',\n '2',\n '2',\n ' ',\n 'e',\n 'B',\n 'o',\n 'o',\n 'k',\n ' ',\n '6',\n '7',\n '0',\n '9',\n '8',\n '\\n',\n 'M',\n 'o',\n 's',\n 't',\n ' ',\n 'r',\n 'e',\n 'c',\n 'e',\n 'n',\n 't',\n 'l',\n 'y',\n ' ',\n 'u',\n 'p',\n 'd',\n 'a',\n 't',\n 'e',\n 'd',\n ' ',\n 'O',\n 'c',\n 't',\n 'o',\n 'b',\n 'e',\n 'r',\n ' ',\n '1',\n '2',\n ' ',\n '2',\n '0',\n '2',\n '2',\n '\\n',\n '\\n',\n 'L',\n 'a',\n 'n',\n 'g',\n 'u',\n 'a',\n 'g',\n 'e',\n ' ',\n 'E',\n 'n',\n 'g',\n 'l',\n 'i',\n 's',\n 'h',\n '\\n',\n '\\n',\n 'P',\n 'r',\n 'o',\n 'd',\n 'u',\n 'c',\n 'e',\n 'd',\n ' ',\n 'b',\n 'y',\n ' ',\n 'G',\n 'r',\n 'e',\n 'g',\n ' ',\n 'W',\n 'e',\n 'e',\n 'k',\n 's',\n ' ',\n 'M',\n 'a',\n 'r',\n 'y',\n ' ',\n 'M',\n 'e',\n 'e',\n 'h',\n 'a',\n 'n',\n ' ',\n 'I',\n 'o',\n 'n',\n 'a',\n ' ',\n 'V',\n 'a',\n 'u',\n 'g',\n 'h',\n 'a',\n 'n',\n ' ',\n 'D',\n 'a',\n 'v',\n 'i',\n 'd',\n ' ',\n 'T',\n ' ',\n 'J',\n 'o',\n 'n',\n 'e',\n 's',\n ' ',\n 'a',\n 'n',\n 'd',\n ' ',\n 't',\n 'h',\n 'e',\n '\\n',\n ' ',\n ' ',\n ' ',\n ' ',\n ' ',\n ' ',\n ' ',\n ' ',\n ' ',\n ' ',\n ' ',\n ' ',\n ' ',\n 'o',\n 'n',\n 'l',\n 'i',\n 'n',\n 'e',\n ' ',\n 'D',\n 'i',\n 's',\n 't',\n 'r',\n 'i',\n 'b',\n 'u',\n 't',\n 'e',\n 'd',\n ' ',\n 'P',\n 'r',\n 'o',\n 'o',\n 'f',\n 'r',\n 'e',\n 'a',\n 'd',\n 'e',\n 'r',\n 's',\n ' ',\n 'C',\n 'a',\n 'n',\n 'a',\n 'd',\n 'a',\n ' ',\n 't',\n 'e',\n 'a',\n 'm',\n ' ',\n 'a',\n 't',\n '\\n',\n ' ',\n ' ',\n ' ',\n ' ',\n ' ',\n ' ',\n ' ',\n ' ',\n ' ',\n ' ',\n ' ',\n ' ',\n ' ',\n 'h',\n 't',\n 't',\n 'p',\n 'w',\n 'w',\n 'w',\n 'p',\n 'g',\n 'd',\n 'p',\n 'c',\n 'a',\n 'n',\n 'a',\n 'd',\n 'a',\n 'n',\n 'e',\n 't',\n '\\n',\n '\\n',\n ' ',\n 'S',\n 'T',\n 'A',\n 'R',\n 'T',\n ' ',\n 'O',\n 'F',\n ' ',\n 'T',\n 'H',\n 'E',\n ' ',\n 'P',\n 'R',\n 'O',\n 'J',\n 'E',\n 'C',\n 'T',\n ' ',\n 'G',\n 'U',\n 'T',\n 'E',\n 'N',\n 'B',\n 'E',\n 'R',\n 'G',\n ' ',\n 'E',\n 'B',\n 'O',\n 'O',\n 'K',\n ' ',\n 'W',\n 'I',\n 'N',\n 'N',\n 'I',\n 'E',\n 'T',\n 'H',\n 'E',\n 'P',\n 'O',\n 'O',\n 'H',\n ' ',\n '\\n',\n '\\n',\n '\\n',\n '\\n',\n '\\n',\n '\\n',\n ' ',\n ' ',\n ' ',\n ' ',\n ' ',\n ' ',\n ' ',\n ' ',\n ' ',\n ' ',\n ' ',\n ' ',\n ' ',\n ' ',\n ' ',\n ' ',\n ' ',\n ' ',\n ' ',\n ' ',\n ' ',\n ' ',\n ' ',\n ' ',\n ' ',\n ' ',\n ' ',\n ' ',\n 'W',\n 'I',\n 'N',\n 'N',\n 'I',\n 'E',\n 'T',\n 'H',\n 'E',\n 'P',\n 'O',\n 'O',\n 'H',\n '\\n',\n '\\n',\n ' ',\n ' ',\n ' ',\n ' ',\n ' ',\n ' ',\n ' ',\n ' ',\n ' ',\n ' ',\n ' ',\n ' ',\n ' ',\n ' ',\n ' ',\n ' ',\n ' ',\n ' ',\n ' ',\n ' ',\n ' ',\n ' ',\n ' ',\n ' ',\n ' ',\n ' ',\n ' ',\n ' ',\n 'B',\n 'Y',\n ' ',\n 'A',\n ' ',\n 'A',\n ' ',\n 'M',\n 'I',\n 'L',\n 'N',\n 'E',\n '\\n',\n '\\n',\n '\\n',\n '\\n',\n '\\n',\n ' ',\n ' ',\n ' ',\n ' ',\n ' ',\n ' ',\n ' ',\n ' ',\n ' ',\n ' ',\n ' ',\n ' ',\n ' ',\n ' ',\n ' ',\n ' ',\n ' ',\n ' ',\n ' ',\n ' ',\n ' ',\n ' ',\n ' ',\n ' ',\n ' ',\n ' ',\n ' ',\n ' ',\n ...]"
     },
     "execution_count": 10,
     "metadata": {},
     "output_type": "execute_result"
    }
   ],
   "source": [
    "result"
   ],
   "metadata": {
    "collapsed": false
   }
  },
  {
   "cell_type": "markdown",
   "source": [
    "##### Verify if every character is letter, number or space"
   ],
   "metadata": {
    "collapsed": false
   }
  },
  {
   "cell_type": "code",
   "execution_count": 11,
   "outputs": [],
   "source": [
    "assert all(character.isalnum() or character.isspace() for character in result)"
   ],
   "metadata": {
    "collapsed": false
   }
  },
  {
   "cell_type": "markdown",
   "source": [
    "# Generate sheets with characters"
   ],
   "metadata": {
    "collapsed": false
   }
  },
  {
   "cell_type": "markdown",
   "source": [
    "### Generate empty sheet"
   ],
   "metadata": {
    "collapsed": false
   }
  },
  {
   "cell_type": "code",
   "execution_count": 12,
   "outputs": [],
   "source": [
    "empty_sheet = np.zeros(shape=(rows * cell, columns * cell))"
   ],
   "metadata": {
    "collapsed": false
   }
  },
  {
   "cell_type": "markdown",
   "source": [
    "### Verify sheet visually"
   ],
   "metadata": {
    "collapsed": false
   }
  },
  {
   "cell_type": "code",
   "execution_count": 13,
   "outputs": [
    {
     "data": {
      "text/plain": "<matplotlib.image.AxesImage at 0x1eef3049de0>"
     },
     "execution_count": 13,
     "metadata": {},
     "output_type": "execute_result"
    },
    {
     "data": {
      "text/plain": "<Figure size 1000x1000 with 1 Axes>",
      "image/png": "[encoded data removed]"
     },
     "metadata": {},
     "output_type": "display_data"
    }
   ],
   "source": [
    "plt.figure(figsize=(10, 10))\n",
    "plt.imshow(empty_sheet)"
   ],
   "metadata": {
    "collapsed": false
   }
  },
  {
   "cell_type": "markdown",
   "source": [
    "##### Map emnist symbols to kuzushiji randomly"
   ],
   "metadata": {
    "collapsed": false
   }
  },
  {
   "cell_type": "code",
   "execution_count": 14,
   "outputs": [],
   "source": [
    "temporary_list = list(kuzushiji_mapping.keys())\n",
    "np.random.shuffle(temporary_list)\n",
    "\n",
    "emnist_to_kuzushiji_mapping = dict()\n",
    "for element in range(len(emnist_mapping.keys())):\n",
    "    emnist_to_kuzushiji_mapping[emnist_mapping[element]] = temporary_list[element]"
   ],
   "metadata": {
    "collapsed": false
   }
  },
  {
   "cell_type": "markdown",
   "source": [
    "### Some lowercase letters are missing from dataset, we fix this by mapping missing letters to uppercase ones"
   ],
   "metadata": {
    "collapsed": false
   }
  },
  {
   "cell_type": "code",
   "execution_count": 15,
   "outputs": [],
   "source": [
    "missing_letters = ['u','i','j','k','l','m','o','p','c','y','v','s','w','x','z']\n",
    "\n",
    "for ml in missing_letters:\n",
    "    emnist_mapping_inverted[ml] = emnist_mapping_inverted[ml.upper()]\n",
    "    emnist_to_kuzushiji_mapping[ml] = emnist_to_kuzushiji_mapping[ml.upper()]"
   ],
   "metadata": {
    "collapsed": false
   }
  },
  {
   "cell_type": "markdown",
   "source": [
    "#### Show generated mapping of emnist to kuzushiji for later reference"
   ],
   "metadata": {
    "collapsed": false
   }
  },
  {
   "cell_type": "code",
   "execution_count": 16,
   "outputs": [
    {
     "name": "stdout",
     "output_type": "stream",
     "text": [
      "0 --> け\n",
      "1 --> ろ\n",
      "2 --> せ\n",
      "3 --> ち\n",
      "4 --> む\n",
      "5 --> か\n",
      "6 --> は\n",
      "7 --> れ\n",
      "8 --> ふ\n",
      "9 --> に\n",
      "A --> な\n",
      "B --> ま\n",
      "C --> め\n",
      "D --> す\n",
      "E --> を\n",
      "F --> き\n",
      "G --> へ\n",
      "H --> ほ\n",
      "I --> わ\n",
      "J --> の\n",
      "K --> さ\n",
      "L --> あ\n",
      "M --> く\n",
      "N --> ゐ\n",
      "O --> よ\n",
      "P --> ゆ\n",
      "Q --> も\n",
      "R --> つ\n",
      "S --> み\n",
      "T --> ら\n",
      "U --> と\n",
      "V --> え\n",
      "W --> お\n",
      "X --> ひ\n",
      "Y --> ん\n",
      "Z --> い\n",
      "a --> り\n",
      "b --> う\n",
      "d --> ゑ\n",
      "e --> る\n",
      "f --> そ\n",
      "g --> て\n",
      "h --> ぬ\n",
      "n --> こ\n",
      "q --> し\n",
      "r --> た\n",
      "t --> や\n"
     ]
    }
   ],
   "source": [
    "for element in range(len(emnist_mapping.keys())):\n",
    "    print(f'{emnist_mapping[element]} --> {kuzushiji_mapping[temporary_list[element]]}')"
   ],
   "metadata": {
    "collapsed": false
   }
  },
  {
   "cell_type": "markdown",
   "source": [
    "#### Generate characters sheets, add noise, threshold"
   ],
   "metadata": {
    "collapsed": false
   }
  },
  {
   "cell_type": "code",
   "execution_count": 22,
   "outputs": [],
   "source": [
    "trials = [1, 2, 3, 4, 5]\n",
    "\n",
    "for trial in range(len(trials)):\n",
    "    l_idx = 0\n",
    "\n",
    "    sheets_kuzushiji = list()\n",
    "\n",
    "    while l_idx < len(result):\n",
    "        kuzushiji_sheet = empty_sheet.copy()\n",
    "        for i in range(0, kuzushiji_sheet.shape[0], 32):\n",
    "            if l_idx >= len(result):\n",
    "                break\n",
    "            for j in range(0, kuzushiji_sheet.shape[1], 32):\n",
    "                if l_idx >= len(result):\n",
    "                    break\n",
    "                if result[l_idx] == '\\n':\n",
    "                    l_idx += 1\n",
    "                    break\n",
    "                elif result[l_idx] == ' ':\n",
    "                    kuzushiji_sheet[i:i + 32, j:j + 32] = (np.zeros(shape=(32, 32)))\n",
    "                else:\n",
    "                    random_choice = np.random.randint(trials[trial]) # np.random.choice(kuzushiji_letters[emnist_to_kuzushiji_mapping[result[l_idx]]].shape[0], 1)[0]\n",
    "                    while random_choice >= kuzushiji_letters[emnist_to_kuzushiji_mapping[result[l_idx]]].shape[0]:\n",
    "                        random_choice = np.random.randint(trials[trial])\n",
    "                    plain_character = kuzushiji_letters[emnist_to_kuzushiji_mapping[result[l_idx]]][random_choice]\n",
    "                    if np.random.random() < 0.3:\n",
    "                        plain_character = lo.stretch_cv2(plain_character, np.round(np.random.uniform(0.85, 1.15), 2), np.random.randint(0, 2))\n",
    "                    if np.random.random() < 0.3:\n",
    "                        plain_character = lo.rotate_cv2(plain_character, np.round(np.random.uniform(-30, 30)))\n",
    "                    kuzushiji_sheet[i:i + 32, j:j + 32] = plain_character\n",
    "                l_idx += 1\n",
    "        kuzushiji_sheet = lo.thresholding(kuzushiji_sheet, 127)\n",
    "        kuzushiji_sheet = lo.noise(kuzushiji_sheet, noise)\n",
    "        kuzushiji_sheet = lo.invert_pixels(kuzushiji_sheet)\n",
    "        sheets_kuzushiji.append(kuzushiji_sheet)\n",
    "\n",
    "    path = FILE_PATH + '../../data/generated/kuzushiji/'\n",
    "\n",
    "    for idx in range(len(sheets_kuzushiji)):\n",
    "        cv2.imwrite(path + '/trial_' + str(trial) + \"/kuzushiji_\" + str(idx) + \".png\", sheets_kuzushiji[idx])"
   ],
   "metadata": {
    "collapsed": false
   }
  },
  {
   "cell_type": "code",
   "execution_count": 23,
   "outputs": [],
   "source": [
    "trials = [1, 2, 3, 4, 5]\n",
    "\n",
    "for trial in range(len(trials)):\n",
    "\n",
    "    l_idx = 0\n",
    "\n",
    "    sheets_emnist = list()\n",
    "\n",
    "    while l_idx < len(result):\n",
    "        emnist_sheet = empty_sheet.copy()\n",
    "        for i in range(0, emnist_sheet.shape[0], 32):\n",
    "            if l_idx >= len(result):\n",
    "                break\n",
    "            for j in range(0, emnist_sheet.shape[1], 32):\n",
    "                if l_idx >= len(result):\n",
    "                    break\n",
    "                if result[l_idx] == '\\n':\n",
    "                    l_idx += 1\n",
    "                    break\n",
    "                elif result[l_idx] == ' ':\n",
    "                    emnist_sheet[i:i + 32, j:j + 32] = (np.zeros(shape=(32, 32)))\n",
    "                else:\n",
    "                    random_choice = np.random.randint(trials[trial]) # np.random.choice(emnist_letters[emnist_mapping_inverted[result[l_idx]]].shape[0], 1)[0]\n",
    "                    while random_choice >= emnist_letters[emnist_mapping_inverted[result[l_idx]]].shape[0]:\n",
    "                        random_choice = np.random.randint(trials[trial])\n",
    "                    plain_character = emnist_letters[emnist_mapping_inverted[result[l_idx]]][random_choice]\n",
    "                    if np.random.random() < 0.3:\n",
    "                        plain_character = lo.stretch_cv2(plain_character, np.round(np.random.uniform(0.85, 1.15), 2), np.random.randint(0, 2))\n",
    "                    if np.random.random() < 0.3:\n",
    "                        plain_character = lo.rotate_cv2(plain_character, np.round(np.random.uniform(-30, 30)))\n",
    "                    emnist_sheet[i:i + 32, j:j + 32] = plain_character\n",
    "                l_idx += 1\n",
    "\n",
    "        emnist_sheet = lo.thresholding(emnist_sheet, 127)\n",
    "        emnist_sheet = lo.noise(emnist_sheet, noise)\n",
    "        emnist_sheet = lo.invert_pixels(emnist_sheet)\n",
    "        sheets_emnist.append(emnist_sheet)\n",
    "\n",
    "    path = FILE_PATH + '../../data/generated/emnist/'\n",
    "\n",
    "    for idx in range(len(sheets_emnist)):\n",
    "        cv2.imwrite(path + '/trial_' + str(trial) + \"/emnist_\" + str(idx) + \".png\", sheets_emnist[idx])"
   ],
   "metadata": {
    "collapsed": false
   }
  },
  {
   "cell_type": "code",
   "execution_count": 18,
   "outputs": [],
   "source": [],
   "metadata": {
    "collapsed": false
   }
  }
 ],
 "metadata": {
  "kernelspec": {
   "display_name": "Python 3",
   "language": "python",
   "name": "python3"
  },
  "language_info": {
   "codemirror_mode": {
    "name": "ipython",
    "version": 2
   },
   "file_extension": ".py",
   "mimetype": "text/x-python",
   "name": "python",
   "nbconvert_exporter": "python",
   "pygments_lexer": "ipython2",
   "version": "2.7.6"
  }
 },
 "nbformat": 4,
 "nbformat_minor": 0
}
