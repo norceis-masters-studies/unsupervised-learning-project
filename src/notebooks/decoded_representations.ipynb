{
 "cells": [
  {
   "cell_type": "code",
   "execution_count": 8,
   "metadata": {
    "collapsed": true
   },
   "outputs": [],
   "source": [
    "import jupyter_fix\n",
    "\n",
    "jupyter_fix.fix_jupyter_path()\n"
   ]
  },
  {
   "cell_type": "code",
   "execution_count": 9,
   "outputs": [],
   "source": [
    "import src.utility.symbols_loader as sl\n",
    "import matplotlib.pyplot as plt\n",
    "import torch\n",
    "from torch import nn\n",
    "from torch.nn import functional as F\n",
    "import einops\n",
    "import os\n",
    "import numpy as np\n",
    "from torch.utils.data import DataLoader\n",
    "from torchvision.datasets import MNIST\n",
    "from torchvision import transforms\n",
    "from tqdm import tqdm\n",
    "from pathlib import Path\n",
    "import datetime\n",
    "from src.architectures.course_autoencoder import Autoencoder, Encoder, Decoder\n"
   ],
   "metadata": {
    "collapsed": false
   }
  },
  {
   "cell_type": "code",
   "execution_count": 10,
   "outputs": [],
   "source": [
    "### Configure PyTorch"
   ],
   "metadata": {
    "collapsed": false
   }
  },
  {
   "cell_type": "code",
   "execution_count": 11,
   "outputs": [],
   "source": [
    "device = torch.device(\"cuda:0\" if torch.cuda.is_available() else \"cpu\")\n",
    "torch.backends.cudnn.benchmark = True  # should improve speed if input size don't change"
   ],
   "metadata": {
    "collapsed": false
   }
  },
  {
   "cell_type": "code",
   "execution_count": 12,
   "outputs": [],
   "source": [
    "### Set constants\n",
    "LATENT_WIDTH = 32\n",
    "path = \"data/models/\""
   ],
   "metadata": {
    "collapsed": false
   }
  },
  {
   "cell_type": "code",
   "execution_count": 13,
   "outputs": [
    {
     "data": {
      "text/plain": "Autoencoder(\n  (encoder): Encoder(\n    (model): Sequential(\n      (0): Sequential(\n        (0): Conv2d(1, 8, kernel_size=(3, 3), stride=(2, 2), padding=(1, 1), bias=False)\n        (1): BatchNorm2d(8, eps=1e-05, momentum=0.1, affine=True, track_running_stats=True)\n        (2): LeakyReLU(negative_slope=0.01)\n      )\n      (1): Sequential(\n        (0): Conv2d(8, 8, kernel_size=(3, 3), stride=(2, 2), padding=(1, 1), bias=False)\n        (1): BatchNorm2d(8, eps=1e-05, momentum=0.1, affine=True, track_running_stats=True)\n        (2): LeakyReLU(negative_slope=0.01)\n      )\n      (2): Sequential(\n        (0): Conv2d(8, 16, kernel_size=(3, 3), stride=(2, 2), padding=(1, 1), bias=False)\n        (1): BatchNorm2d(16, eps=1e-05, momentum=0.1, affine=True, track_running_stats=True)\n        (2): LeakyReLU(negative_slope=0.01)\n      )\n      (3): Sequential(\n        (0): Conv2d(16, 16, kernel_size=(3, 3), stride=(2, 2), padding=(1, 1), bias=False)\n        (1): BatchNorm2d(16, eps=1e-05, momentum=0.1, affine=True, track_running_stats=True)\n        (2): LeakyReLU(negative_slope=0.01)\n      )\n    )\n    (fc): Sequential(\n      (0): Linear(in_features=64, out_features=32, bias=True)\n      (1): Tanh()\n    )\n  )\n  (decoder): Decoder(\n    (fc): Sequential(\n      (0): Linear(in_features=32, out_features=64, bias=True)\n      (1): ReLU()\n    )\n    (model): Sequential(\n      (0): Sequential(\n        (0): ConvTranspose2d(16, 16, kernel_size=(3, 3), stride=(2, 2), padding=(1, 1), output_padding=(1, 1), bias=False)\n        (1): BatchNorm2d(16, eps=1e-05, momentum=0.1, affine=True, track_running_stats=True)\n        (2): LeakyReLU(negative_slope=0.01)\n      )\n      (1): Sequential(\n        (0): ConvTranspose2d(16, 8, kernel_size=(3, 3), stride=(2, 2), padding=(1, 1), output_padding=(1, 1), bias=False)\n        (1): BatchNorm2d(8, eps=1e-05, momentum=0.1, affine=True, track_running_stats=True)\n        (2): LeakyReLU(negative_slope=0.01)\n      )\n      (2): Sequential(\n        (0): ConvTranspose2d(8, 8, kernel_size=(3, 3), stride=(2, 2), padding=(1, 1), output_padding=(1, 1), bias=False)\n        (1): BatchNorm2d(8, eps=1e-05, momentum=0.1, affine=True, track_running_stats=True)\n        (2): LeakyReLU(negative_slope=0.01)\n      )\n      (3): Sequential(\n        (0): ConvTranspose2d(8, 8, kernel_size=(3, 3), stride=(2, 2), padding=(1, 1), output_padding=(1, 1), bias=False)\n        (1): BatchNorm2d(8, eps=1e-05, momentum=0.1, affine=True, track_running_stats=True)\n        (2): LeakyReLU(negative_slope=0.01)\n      )\n      (4): Conv2d(8, 1, kernel_size=(3, 3), stride=(1, 1), padding=(1, 1))\n      (5): Sigmoid()\n    )\n  )\n)"
     },
     "execution_count": 13,
     "metadata": {},
     "output_type": "execute_result"
    }
   ],
   "source": [
    "\n",
    "emnist_Autoencoder = Autoencoder(Encoder(LATENT_WIDTH), Decoder(LATENT_WIDTH))\n",
    "emnist_Autoencoder.load_state_dict(torch.load(path + '1672367363_emnist_course_autoencoder_32.pth'))\n",
    "emnist_Autoencoder.to(device)"
   ],
   "metadata": {
    "collapsed": false
   }
  },
  {
   "cell_type": "code",
   "execution_count": 14,
   "outputs": [
    {
     "name": "stdout",
     "output_type": "stream",
     "text": [
      "(11688, 32, 32)\n"
     ]
    }
   ],
   "source": [
    "from src.architectures.letters_dataset import LettersDataset\n",
    "\n",
    "mnist_dataset = LettersDataset(sl.load_emnist_pages(5, trial='trial_4'))\n",
    "print(sl.load_emnist_pages(5, trial='trial_4').shape)\n",
    "emnist_val_loader = DataLoader(\n",
    "    mnist_dataset,\n",
    "    batch_size=1,\n",
    "    num_workers=4,\n",
    "    shuffle=False,\n",
    "    pin_memory=True,\n",
    ")"
   ],
   "metadata": {
    "collapsed": false
   }
  },
  {
   "cell_type": "code",
   "execution_count": 15,
   "outputs": [
    {
     "name": "stderr",
     "output_type": "stream",
     "text": [
      "100%|██████████| 11688/11688 [00:33<00:00, 346.61it/s]\n"
     ]
    }
   ],
   "source": [
    "emnist_preds = []\n",
    "\n",
    "with torch.no_grad() as nograd:\n",
    "    for batch in tqdm(emnist_val_loader):\n",
    "        images = batch.to(device)\n",
    "        predictions, _ = emnist_Autoencoder(images)\n",
    "\n",
    "        emnist_preds.append(predictions.cpu())\n"
   ],
   "metadata": {
    "collapsed": false
   }
  },
  {
   "cell_type": "code",
   "execution_count": 16,
   "outputs": [],
   "source": [
    "emnist_preds_numpy = np.zeros((len(emnist_preds), 32, 32))\n",
    "\n",
    "iterator = 0\n",
    "for tensor in emnist_preds:\n",
    "    for block in range(tensor.shape[0]):\n",
    "        emnist_preds_numpy[iterator] = tensor[block].numpy().copy()\n",
    "        iterator += 1\n",
    "\n",
    "emnist_preds_numpy.shape\n",
    "path = \"data/encoded_data/\"\n",
    "np.savez_compressed(path + \"emnist_decoded.npz\", emnist_preds_numpy)\n",
    "\n"
   ],
   "metadata": {
    "collapsed": false
   }
  },
  {
   "cell_type": "code",
   "execution_count": 17,
   "outputs": [
    {
     "data": {
      "text/plain": "<matplotlib.image.AxesImage at 0x7f24ac314070>"
     },
     "execution_count": 17,
     "metadata": {},
     "output_type": "execute_result"
    },
    {
     "data": {
      "text/plain": "<Figure size 640x480 with 1 Axes>",
      "image/png": "[encoded data removed]"
     },
     "metadata": {},
     "output_type": "display_data"
    }
   ],
   "source": [
    "plt.imshow(emnist_preds_numpy[65])"
   ],
   "metadata": {
    "collapsed": false
   }
  },
  {
   "cell_type": "code",
   "execution_count": 17,
   "outputs": [],
   "source": [],
   "metadata": {
    "collapsed": false
   }
  }
 ],
 "metadata": {
  "kernelspec": {
   "display_name": "Python 3",
   "language": "python",
   "name": "python3"
  },
  "language_info": {
   "codemirror_mode": {
    "name": "ipython",
    "version": 2
   },
   "file_extension": ".py",
   "mimetype": "text/x-python",
   "name": "python",
   "nbconvert_exporter": "python",
   "pygments_lexer": "ipython2",
   "version": "2.7.6"
  }
 },
 "nbformat": 4,
 "nbformat_minor": 0
}
