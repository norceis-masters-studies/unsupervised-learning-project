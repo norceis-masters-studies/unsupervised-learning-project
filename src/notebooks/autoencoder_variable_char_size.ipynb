{
 "cells": [
  {
   "cell_type": "code",
   "execution_count": 1,
   "outputs": [],
   "source": [
    "import sys\n",
    "\n",
    "# append root project directory so packages will be available\n",
    "sys.path.append('../..')"
   ],
   "metadata": {
    "collapsed": false,
    "pycharm": {
     "name": "#%%\n"
    }
   }
  },
  {
   "cell_type": "code",
   "execution_count": 2,
   "outputs": [],
   "source": [
    "import einops\n",
    "import numpy as np\n",
    "from tqdm import tqdm\n",
    "from pathlib import Path\n",
    "\n",
    "\n",
    "import torch\n",
    "from torch import nn\n",
    "from torch.nn import functional as F\n",
    "from torch.utils.data import DataLoader\n",
    "from torchvision import transforms\n",
    "\n",
    "import src.utility.symbols_loader as sl\n",
    "from src.architectures.course_autoencoder import Autoencoder, Encoder, Decoder\n",
    "from src.architectures.letters_dataset import LettersDataset"
   ],
   "metadata": {
    "collapsed": false,
    "pycharm": {
     "name": "#%%\n"
    }
   }
  },
  {
   "cell_type": "code",
   "execution_count": 3,
   "outputs": [],
   "source": [
    "device = torch.device(\"cuda:0\" if torch.cuda.is_available() else \"cpu\")\n",
    "torch.backends.cudnn.benchmark = True # should improve speed if input size don't change"
   ],
   "metadata": {
    "collapsed": false,
    "pycharm": {
     "name": "#%%\n"
    }
   }
  },
  {
   "cell_type": "code",
   "execution_count": 4,
   "outputs": [],
   "source": [
    "LATENT_WIDTH = 16\n",
    "BATCH_SIZE = 1024\n",
    "EPOCHS = 500\n",
    "LEARNING_RATE = 1e-2\n",
    "NUM_WORKERS = 2\n",
    "\n",
    "FILE_PATH = Path().parent.as_posix() + \"/\" + \"../../data/models/\""
   ],
   "metadata": {
    "collapsed": false,
    "pycharm": {
     "name": "#%%\n"
    }
   }
  },
  {
   "cell_type": "code",
   "execution_count": 5,
   "outputs": [
    {
     "name": "stderr",
     "output_type": "stream",
     "text": [
      "100%|██████████| 250/250 [22:03<00:00,  5.29s/it, Loss: 0.041568852961063385]\n"
     ]
    }
   ],
   "source": [
    "trials = ['trial_0', 'trial_1', 'trial_2', 'trial_3', 'trial_4']\n",
    "\n",
    "for trial in trials:\n",
    "    mnist_dataset = LettersDataset(sl.load_emnist_pages(trial=trial))\n",
    "\n",
    "    emnist_loader = DataLoader(\n",
    "    mnist_dataset,\n",
    "    batch_size=BATCH_SIZE,\n",
    "    num_workers=NUM_WORKERS,  # 4 * GPU_COUNT\n",
    "    shuffle=True,\n",
    "    pin_memory=True\n",
    "    )\n",
    "    emnist_Encoder = Encoder(LATENT_WIDTH)\n",
    "    emnist_Decoder = Decoder(emnist_Encoder.latent_width)\n",
    "    emnist_Autoencoder = Autoencoder(emnist_Encoder, emnist_Decoder)\n",
    "\n",
    "    loss_func = F.mse_loss\n",
    "    optimizer = torch.optim.Adam(emnist_Autoencoder.parameters(), lr=LEARNING_RATE) #, lr=LEARNING_RATE)\n",
    "\n",
    "    emnist_Autoencoder.to(device)\n",
    "\n",
    "    for epoch in (pbar := tqdm(range(EPOCHS))):\n",
    "\n",
    "        emnist_Autoencoder.train()\n",
    "\n",
    "        for batch in emnist_loader:\n",
    "                    images = batch.to(device)\n",
    "                    optimizer.zero_grad()  # MUST be called on every batch\n",
    "                    predictions, latents = emnist_Autoencoder(images)\n",
    "                    loss = loss_func(predictions, images)\n",
    "                    loss.backward()\n",
    "                    optimizer.step()\n",
    "        pbar.set_postfix_str(\"Loss: \" + str(loss.item()))\n",
    "\n",
    "    name = trial + \"_emnist_autoencoder.pth\"\n",
    "    torch.save(emnist_Autoencoder.state_dict(), FILE_PATH + name)\n",
    "    print(f'{trial} done')"
   ],
   "metadata": {
    "collapsed": false,
    "pycharm": {
     "name": "#%%\n"
    }
   }
  },
  {
   "cell_type": "markdown",
   "source": [
    "----------------------------------------------------------------------------------------------------------------------------------------------------------------------------"
   ],
   "metadata": {
    "collapsed": false,
    "pycharm": {
     "name": "#%% md\n"
    }
   }
  },
  {
   "cell_type": "markdown",
   "source": [
    "# KUZUSHIJI"
   ],
   "metadata": {
    "collapsed": false,
    "pycharm": {
     "name": "#%% md\n"
    }
   }
  },
  {
   "cell_type": "code",
   "execution_count": 14,
   "outputs": [],
   "source": [
    "trials = ['trial_0', 'trial_1', 'trial_2', 'trial_3', 'trial_4']\n",
    "\n",
    "for trial in trials:\n",
    "    kuzushiji_dataset = LettersDataset(sl.load_kuzushiji_pages(trial=trial))\n",
    "    kuzushiji_loader = DataLoader(\n",
    "    kuzushiji_dataset,\n",
    "    batch_size=BATCH_SIZE,\n",
    "    num_workers=NUM_WORKERS,  # 4 * GPU_COUNT\n",
    "    shuffle=True,\n",
    "    pin_memory=True\n",
    "    )\n",
    "    kuzushiji_Encoder = Encoder(LATENT_WIDTH)\n",
    "    kuzushiji_Decoder = Decoder(kuzushiji_Encoder.latent_width)\n",
    "    kuzushiji_Autoencoder = Autoencoder(kuzushiji_Encoder, kuzushiji_Decoder)\n",
    "\n",
    "    loss_func = F.mse_loss\n",
    "    optimizer = torch.optim.Adam(kuzushiji_Autoencoder.parameters(), lr=LEARNING_RATE) #, lr=LEARNING_RATE)\n",
    "\n",
    "    kuzushiji_Autoencoder.to(device)\n",
    "    for epoch in (pbar := tqdm(range(EPOCHS))):\n",
    "\n",
    "        kuzushiji_Autoencoder.train()\n",
    "\n",
    "        for batch in kuzushiji_loader:\n",
    "                    images = batch.to(device)\n",
    "                    optimizer.zero_grad()  # MUST be called on every batch\n",
    "                    predictions, latents = kuzushiji_Autoencoder(images)\n",
    "                    loss = loss_func(predictions, images)\n",
    "                    loss.backward()\n",
    "                    optimizer.step()\n",
    "        pbar.set_postfix_str(\"Loss: \" + str(loss.item()))\n",
    "\n",
    "    name = trial + \"_kuzushiji_autoencoder.pth\"\n",
    "    torch.save(kuzushiji_Autoencoder.state_dict(), FILE_PATH + name)\n",
    "    print(f'{trial} done')"
   ],
   "metadata": {
    "collapsed": false,
    "pycharm": {
     "name": "#%%\n"
    }
   }
  }
 ],
 "metadata": {
  "kernelspec": {
   "display_name": "Python 3",
   "language": "python",
   "name": "python3"
  },
  "language_info": {
   "codemirror_mode": {
    "name": "ipython",
    "version": 2
   },
   "file_extension": ".py",
   "mimetype": "text/x-python",
   "name": "python",
   "nbconvert_exporter": "python",
   "pygments_lexer": "ipython2",
   "version": "2.7.6"
  }
 },
 "nbformat": 4,
 "nbformat_minor": 0
}