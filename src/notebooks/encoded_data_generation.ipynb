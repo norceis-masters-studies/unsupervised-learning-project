{
 "cells": [
  {
   "cell_type": "code",
   "execution_count": 27,
   "outputs": [],
   "source": [
    "import jupyter_fix\n",
    "\n",
    "jupyter_fix.fix_jupyter_path()"
   ],
   "metadata": {
    "collapsed": false,
    "pycharm": {
     "name": "#%%\n"
    }
   }
  },
  {
   "cell_type": "markdown",
   "source": [
    "### Import packages"
   ],
   "metadata": {
    "collapsed": false,
    "pycharm": {
     "name": "#%% md\n"
    }
   }
  },
  {
   "cell_type": "code",
   "execution_count": 28,
   "outputs": [],
   "source": [
    "import src.utility.symbols_loader as sl\n",
    "import matplotlib.pyplot as plt\n",
    "import torch\n",
    "from torch import nn\n",
    "from torch.nn import functional as F\n",
    "import einops\n",
    "import os\n",
    "import numpy as np\n",
    "from torch.utils.data import DataLoader\n",
    "from torchvision.datasets import MNIST\n",
    "from torchvision import transforms\n",
    "from tqdm import tqdm\n",
    "from pathlib import Path\n",
    "import datetime\n",
    "from src.architectures.course_autoencoder import Autoencoder, Encoder, Decoder\n"
   ],
   "metadata": {
    "collapsed": false,
    "pycharm": {
     "name": "#%%\n"
    }
   }
  },
  {
   "cell_type": "markdown",
   "source": [
    "### Configure PyTorch"
   ],
   "metadata": {
    "collapsed": false,
    "pycharm": {
     "name": "#%% md\n"
    }
   }
  },
  {
   "cell_type": "code",
   "execution_count": 29,
   "outputs": [],
   "source": [
    "device = torch.device(\"cuda:0\" if torch.cuda.is_available() else \"cpu\")\n",
    "torch.backends.cudnn.benchmark = True # should improve speed if input size don't change"
   ],
   "metadata": {
    "collapsed": false,
    "pycharm": {
     "name": "#%%\n"
    }
   }
  },
  {
   "cell_type": "markdown",
   "source": [
    "### Set constants"
   ],
   "metadata": {
    "collapsed": false,
    "pycharm": {
     "name": "#%% md\n"
    }
   }
  },
  {
   "cell_type": "code",
   "execution_count": 30,
   "outputs": [],
   "source": [
    "LATENT_WIDTH = 32\n",
    "path = \"data/models/\""
   ],
   "metadata": {
    "collapsed": false,
    "pycharm": {
     "name": "#%%\n"
    }
   }
  },
  {
   "cell_type": "code",
   "execution_count": 30,
   "outputs": [],
   "source": [],
   "metadata": {
    "collapsed": false,
    "pycharm": {
     "name": "#%%\n"
    }
   }
  },
  {
   "cell_type": "code",
   "execution_count": 31,
   "outputs": [
    {
     "data": {
      "text/plain": "<All keys matched successfully>"
     },
     "execution_count": 31,
     "metadata": {},
     "output_type": "execute_result"
    }
   ],
   "source": [
    "\n",
    "\n",
    "emnist_Autoencoder = Autoencoder(Encoder(LATENT_WIDTH), Decoder(LATENT_WIDTH))\n",
    "kuzushiji_Autoencoder = Autoencoder(Encoder(LATENT_WIDTH), Decoder(LATENT_WIDTH))\n",
    "\n",
    "emnist_Autoencoder.load_state_dict(torch.load(path + '1672367363_emnist_course_autoencoder_32.pth'))\n",
    "kuzushiji_Autoencoder.load_state_dict(torch.load(path + \"1672368015_kuzushiji_course_autoencoder_32.pth\"))"
   ],
   "metadata": {
    "collapsed": false,
    "pycharm": {
     "name": "#%%\n"
    }
   }
  },
  {
   "cell_type": "code",
   "execution_count": 32,
   "outputs": [],
   "source": [
    "emnist_Encoder = emnist_Autoencoder.encoder\n",
    "emnist_Encoder.to(device)\n",
    "kuzushiji_Encoder = kuzushiji_Autoencoder.encoder"
   ],
   "metadata": {
    "collapsed": false,
    "pycharm": {
     "name": "#%%\n"
    }
   }
  },
  {
   "cell_type": "code",
   "execution_count": 33,
   "outputs": [
    {
     "name": "stdout",
     "output_type": "stream",
     "text": [
      "(11688, 32, 32)\n"
     ]
    }
   ],
   "source": [
    "from src.architectures.letters_dataset import LettersDataset\n",
    "\n",
    "print(sl.load_emnist_pages(5, trial='trial_4').shape)\n",
    "mnist_dataset = LettersDataset(sl.load_emnist_pages(5, trial='trial_4'))\n",
    "\n",
    "emnist_val_loader = DataLoader(\n",
    "    mnist_dataset,\n",
    "    batch_size=1,\n",
    "    num_workers=4,\n",
    "    shuffle=False,\n",
    "    pin_memory=True,\n",
    ")"
   ],
   "metadata": {
    "collapsed": false,
    "pycharm": {
     "name": "#%%\n"
    }
   }
  },
  {
   "cell_type": "code",
   "execution_count": 34,
   "outputs": [
    {
     "name": "stdout",
     "output_type": "stream",
     "text": [
      "(11750, 32, 32)\n"
     ]
    }
   ],
   "source": [
    "kuzushiji_dataset = LettersDataset(sl.load_kuzushiji_pages(5, trial='trial_4'))\n",
    "print(sl.load_kuzushiji_pages(5, trial='trial_4').shape)\n",
    "kuzushiji_val_loader = DataLoader(\n",
    "    kuzushiji_dataset,\n",
    "    batch_size=1,\n",
    "    num_workers=4,\n",
    "    shuffle=False,\n",
    "    pin_memory=True,\n",
    ")"
   ],
   "metadata": {
    "collapsed": false,
    "pycharm": {
     "name": "#%%\n"
    }
   }
  },
  {
   "cell_type": "code",
   "execution_count": 35,
   "outputs": [
    {
     "name": "stderr",
     "output_type": "stream",
     "text": [
      "100%|██████████| 11688/11688 [00:19<00:00, 589.24it/s]\n"
     ]
    }
   ],
   "source": [
    "emnist_preds = []\n",
    "\n",
    "with torch.no_grad() as nograd:\n",
    "    for batch in tqdm(emnist_val_loader):\n",
    "\n",
    "        images = batch.to(device)\n",
    "        predictions = emnist_Encoder(images)\n",
    "\n",
    "        emnist_preds.append(predictions.cpu())"
   ],
   "metadata": {
    "collapsed": false,
    "pycharm": {
     "name": "#%%\n"
    }
   }
  },
  {
   "cell_type": "code",
   "execution_count": 36,
   "outputs": [
    {
     "name": "stderr",
     "output_type": "stream",
     "text": [
      "100%|██████████| 11750/11750 [00:19<00:00, 614.77it/s]\n"
     ]
    }
   ],
   "source": [
    "kuzushiji_Encoder.to(device)\n",
    "\n",
    "kuzushiji_preds = []\n",
    "\n",
    "with torch.no_grad() as nograd:\n",
    "    for batch in tqdm(kuzushiji_val_loader):\n",
    "\n",
    "        images = batch.to(device)\n",
    "        predictions = kuzushiji_Encoder(images)\n",
    "\n",
    "        kuzushiji_preds.append(predictions.cpu())"
   ],
   "metadata": {
    "collapsed": false,
    "pycharm": {
     "name": "#%%\n"
    }
   }
  },
  {
   "cell_type": "code",
   "execution_count": 37,
   "outputs": [],
   "source": [
    "emnist_preds_numpy = np.zeros((len(emnist_preds), LATENT_WIDTH))\n",
    "\n",
    "iterator = 0\n",
    "for tensor in emnist_preds:\n",
    "    for block in range(tensor.shape[0]):\n",
    "        emnist_preds_numpy[iterator] = tensor[block].numpy().copy()\n",
    "        iterator += 1\n"
   ],
   "metadata": {
    "collapsed": false,
    "pycharm": {
     "name": "#%%\n"
    }
   }
  },
  {
   "cell_type": "code",
   "execution_count": 38,
   "outputs": [
    {
     "data": {
      "text/plain": "(11688, 32)"
     },
     "execution_count": 38,
     "metadata": {},
     "output_type": "execute_result"
    }
   ],
   "source": [
    "emnist_preds_numpy.shape"
   ],
   "metadata": {
    "collapsed": false,
    "pycharm": {
     "name": "#%%\n"
    }
   }
  },
  {
   "cell_type": "code",
   "execution_count": 39,
   "outputs": [],
   "source": [
    "path = \"data/encoded_data/\"\n",
    "np.savez_compressed(path + \"emnist_preds.npz\", emnist_preds_numpy)"
   ],
   "metadata": {
    "collapsed": false,
    "pycharm": {
     "name": "#%%\n"
    }
   }
  },
  {
   "cell_type": "code",
   "execution_count": 40,
   "outputs": [],
   "source": [
    "kuzushiji_preds_numpy = np.zeros((len(kuzushiji_preds), LATENT_WIDTH))\n",
    "\n",
    "iterator = 0\n",
    "for tensor in kuzushiji_preds:\n",
    "    for block in range(tensor.shape[0]):\n",
    "        kuzushiji_preds_numpy[iterator] = tensor[block].numpy().copy()\n",
    "        iterator += 1"
   ],
   "metadata": {
    "collapsed": false,
    "pycharm": {
     "name": "#%%\n"
    }
   }
  },
  {
   "cell_type": "code",
   "execution_count": 41,
   "outputs": [
    {
     "data": {
      "text/plain": "(11750, 32)"
     },
     "execution_count": 41,
     "metadata": {},
     "output_type": "execute_result"
    }
   ],
   "source": [
    "kuzushiji_preds_numpy.shape"
   ],
   "metadata": {
    "collapsed": false,
    "pycharm": {
     "name": "#%%\n"
    }
   }
  },
  {
   "cell_type": "code",
   "execution_count": 42,
   "outputs": [],
   "source": [
    "np.savez_compressed(path + \"kuzushiji_preds.npz\", kuzushiji_preds_numpy)"
   ],
   "metadata": {
    "collapsed": false,
    "pycharm": {
     "name": "#%%\n"
    }
   }
  },
  {
   "cell_type": "code",
   "execution_count": 42,
   "outputs": [],
   "source": [],
   "metadata": {
    "collapsed": false,
    "pycharm": {
     "name": "#%%\n"
    }
   }
  }
 ],
 "metadata": {
  "kernelspec": {
   "display_name": "Python 3",
   "language": "python",
   "name": "python3"
  },
  "language_info": {
   "codemirror_mode": {
    "name": "ipython",
    "version": 2
   },
   "file_extension": ".py",
   "mimetype": "text/x-python",
   "name": "python",
   "nbconvert_exporter": "python",
   "pygments_lexer": "ipython2",
   "version": "2.7.6"
  }
 },
 "nbformat": 4,
 "nbformat_minor": 0
}