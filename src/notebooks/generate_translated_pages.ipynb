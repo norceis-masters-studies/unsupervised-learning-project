{
 "cells": [
  {
   "cell_type": "code",
   "execution_count": null,
   "outputs": [],
   "source": [
    "import jupyter_fix\n",
    "import warnings\n",
    "import copy\n",
    "import cv2\n",
    "import matplotlib.pyplot as plt\n",
    "import numpy as np\n",
    "from umap import UMAP\n",
    "from sklearn.manifold import TSNE\n",
    "from sklearn.preprocessing import StandardScaler\n",
    "from sklearn.mixture import GaussianMixture\n",
    "from src.utility.symbols_loader import load_kuzushiji_pages, load_emnist_pages, load_kuzushiji_pages_with_spaces, load_emnist_pages_with_spaces\n",
    "from tqdm import tqdm\n",
    "\n",
    "jupyter_fix.fix_jupyter_path()\n",
    "warnings.filterwarnings(\"ignore\")\n",
    "\n",
    "path = \"data/encoded_data/\""
   ],
   "metadata": {
    "collapsed": false,
    "pycharm": {
     "name": "#%%\n"
    }
   }
  },
  {
   "cell_type": "code",
   "execution_count": null,
   "outputs": [],
   "source": [
    "emnist_pred = np.load(path + \"emnist_preds.npz\")['arr_0']\n",
    "kuzushiji_pred = np.load(path + \"kuzushiji_preds.npz\")['arr_0']\n",
    "\n",
    "decoded_emnist_pred = np.load(\"data/encoded_data/decoded_emnist_representation.npz\")['arr_0']"
   ],
   "metadata": {
    "collapsed": false,
    "pycharm": {
     "name": "#%%\n"
    }
   }
  },
  {
   "cell_type": "code",
   "execution_count": null,
   "outputs": [],
   "source": [
    "assert load_emnist_pages(5, trial='trial_0').shape[0] == emnist_pred.shape[0]\n",
    "assert load_kuzushiji_pages(5, trial='trial_0').shape[0] == kuzushiji_pred.shape[0]"
   ],
   "metadata": {
    "collapsed": false,
    "pycharm": {
     "name": "#%%\n"
    }
   }
  },
  {
   "cell_type": "code",
   "execution_count": null,
   "outputs": [],
   "source": [
    "reducer_emnist = UMAP(n_components=2)\n",
    "emnist_reduced = reducer_emnist.fit_transform(emnist_pred)\n",
    "emnist_scaled = StandardScaler().fit_transform(emnist_pred)\n",
    "\n",
    "reducer_kuzushiji = UMAP(n_components=2)\n",
    "kuzushiji_reduced = reducer_kuzushiji.fit_transform(kuzushiji_pred)\n",
    "kuzushiji_scaled = StandardScaler().fit_transform(kuzushiji_pred)"
   ],
   "metadata": {
    "collapsed": false,
    "pycharm": {
     "name": "#%%\n"
    }
   }
  },
  {
   "cell_type": "code",
   "execution_count": null,
   "outputs": [],
   "source": [
    "plt.rcParams[\"figure.figsize\"] = (16, 8)\n",
    "fig, (ax1, ax2) = plt.subplots(1,2, sharey=True)\n",
    "\n",
    "ax1.scatter(emnist_reduced[:, 0], emnist_reduced[:, 1], s=5, alpha=0.75, cmap='nipy_spectral')\n",
    "ax1.axis('off')\n",
    "ax1.title.set_text('Emnist')\n",
    "\n",
    "ax2.scatter(kuzushiji_reduced[:, 0], kuzushiji_reduced[:, 1], s=5, alpha=0.75, cmap='nipy_spectral')\n",
    "ax2.axis('off')\n",
    "ax2.title.set_text('Kuzushiji')\n",
    "plt.show()"
   ],
   "metadata": {
    "collapsed": false,
    "pycharm": {
     "name": "#%%\n"
    }
   }
  },
  {
   "cell_type": "code",
   "execution_count": null,
   "outputs": [],
   "source": [
    "n_components = range(20, 70)\n",
    "# covariance_type = ['spherical', 'tied', 'diag', 'full']\n",
    "\n",
    "score_emnist = []\n",
    "for n_comp in tqdm(n_components):\n",
    "    gmm=GaussianMixture(n_components=n_comp,covariance_type='spherical')\n",
    "    gmm.fit(emnist_scaled)\n",
    "    score_emnist.append((n_comp,gmm.bic(emnist_scaled)))\n",
    "\n",
    "score_kuzushiji = []\n",
    "for n_comp in tqdm(n_components):\n",
    "    gmm=GaussianMixture(n_components=n_comp,covariance_type='spherical')\n",
    "    gmm.fit(kuzushiji_scaled)\n",
    "    score_kuzushiji.append((n_comp,gmm.bic(kuzushiji_scaled)))\n",
    "\n",
    "for idx in range(len(score_kuzushiji)):\n",
    "    try:\n",
    "        n_clusters = score_kuzushiji[idx][0]\n",
    "        emnist_difference = round(score_emnist[idx+1][1] - score_emnist[idx][1])\n",
    "        kuzushiji_difference = round(score_kuzushiji[idx+1][1] - score_kuzushiji[idx][1])\n",
    "        if emnist_difference > 0 and kuzushiji_difference > 0:\n",
    "            print(f'{n_clusters, emnist_difference, kuzushiji_difference} !!!!!!!!!')\n",
    "        elif emnist_difference > 0 or kuzushiji_difference > 0:\n",
    "            print(f'{n_clusters, emnist_difference, kuzushiji_difference} ????????')\n",
    "        else:\n",
    "            print(f'{n_clusters, emnist_difference, kuzushiji_difference}')\n",
    "    except:\n",
    "        pass"
   ],
   "metadata": {
    "collapsed": false,
    "pycharm": {
     "name": "#%%\n"
    }
   }
  },
  {
   "cell_type": "code",
   "execution_count": null,
   "outputs": [],
   "source": [
    "#elbow method suggests that 50 clusters for each dataset are possible\n",
    "\n",
    "plt.rcParams[\"figure.figsize\"] = (16, 8)\n",
    "fig, (ax1, ax2) = plt.subplots(1,2, sharey=True)\n",
    "\n",
    "clustering_emnist = GaussianMixture(n_components=46).fit_predict(emnist_scaled)\n",
    "ax1.scatter(emnist_reduced[:, 0], emnist_reduced[:, 1], c=clustering_emnist, s=5, alpha=0.75, cmap='nipy_spectral')\n",
    "ax1.axis('off')\n",
    "ax1.title.set_text('Emnist')\n",
    "\n",
    "clustering_kuzushiji = GaussianMixture(n_components=46).fit_predict(kuzushiji_scaled)\n",
    "ax2.scatter(kuzushiji_reduced[:, 0], kuzushiji_reduced[:, 1], c=clustering_kuzushiji, s=5, alpha=0.75, cmap='nipy_spectral')\n",
    "ax2.axis('off')\n",
    "ax2.title.set_text('Kuzushiji')\n",
    "plt.show()"
   ],
   "metadata": {
    "collapsed": false,
    "pycharm": {
     "name": "#%%\n"
    }
   }
  },
  {
   "cell_type": "code",
   "execution_count": null,
   "outputs": [],
   "source": [
    "unique_kuzushiji, counts_kuzushiji = np.unique(clustering_kuzushiji, return_counts=True)\n",
    "unique_emnist, counts_emnist = np.unique(clustering_emnist, return_counts=True)\n",
    "\n",
    "unique_emnist = unique_emnist.astype('str')\n",
    "unique_kuzushiji = unique_kuzushiji.astype('str')\n",
    "\n",
    "unique_kuzushiji, counts_kuzushiji = zip(*sorted(zip(unique_kuzushiji,counts_kuzushiji), key=lambda x:x[1], reverse=True))\n",
    "unique_emnist, counts_emnist = zip(*sorted(zip(unique_emnist,counts_emnist), key=lambda x:x[1], reverse=True))"
   ],
   "metadata": {
    "collapsed": false,
    "pycharm": {
     "name": "#%%\n"
    }
   }
  },
  {
   "cell_type": "code",
   "execution_count": null,
   "outputs": [],
   "source": [
    "# plt.rcParams[\"figure.figsize\"] = (16, 8)\n",
    "# fig, (ax1, ax2) = plt.subplots(1,2, sharey=True)\n",
    "#\n",
    "# ax1.bar(unique_emnist, counts_emnist, color='blue')\n",
    "# ax1.axis('off')\n",
    "# ax1.title.set_text('Emnist')\n",
    "#\n",
    "# ax2.bar(unique_kuzushiji, counts_kuzushiji, color='red')\n",
    "# ax2.axis('off')\n",
    "# ax2.title.set_text('Kuzushiji')\n",
    "# plt.show()"
   ],
   "metadata": {
    "collapsed": false,
    "pycharm": {
     "name": "#%%\n"
    }
   }
  },
  {
   "cell_type": "code",
   "execution_count": null,
   "outputs": [],
   "source": [
    "plt.rcParams[\"figure.figsize\"] = (8, 8)\n",
    "\n",
    "plt.axis('off')\n",
    "plt.bar(range(len(counts_emnist)), counts_emnist, color='blue', label='emnist', alpha=0.6)\n",
    "plt.bar(range(len(counts_kuzushiji)), counts_kuzushiji, color='red', label='kuzushiji', alpha=0.6)\n",
    "plt.show()"
   ],
   "metadata": {
    "collapsed": false,
    "pycharm": {
     "name": "#%%\n"
    }
   }
  },
  {
   "cell_type": "code",
   "execution_count": null,
   "outputs": [],
   "source": [
    "kuzushiji_pages, kuzushiji_spaces = load_kuzushiji_pages_with_spaces(5, trial='trial_0')\n",
    "emnist_pages, emnist_spaces = load_emnist_pages_with_spaces(5, trial='trial_0')"
   ],
   "metadata": {
    "collapsed": false,
    "pycharm": {
     "name": "#%%\n"
    }
   }
  },
  {
   "cell_type": "code",
   "execution_count": null,
   "outputs": [],
   "source": [
    "emnist_char_clusters = dict()\n",
    "kuzushiji_char_clusters = dict()\n",
    "\n",
    "for idx in range(len(emnist_pages)):\n",
    "    try:\n",
    "        emnist_char_clusters[clustering_emnist[idx]].append(idx)\n",
    "    except:\n",
    "        emnist_char_clusters[clustering_emnist[idx]] = list()\n",
    "        emnist_char_clusters[clustering_emnist[idx]].append(idx)\n",
    "\n",
    "for idx in range(len(kuzushiji_pages)):\n",
    "    try:\n",
    "        kuzushiji_char_clusters[clustering_kuzushiji[idx]].append(idx)\n",
    "    except:\n",
    "        kuzushiji_char_clusters[clustering_kuzushiji[idx]] = list()\n",
    "        kuzushiji_char_clusters[clustering_kuzushiji[idx]].append(idx)\n",
    "\n",
    "kuzushiji_to_emnist = dict()\n",
    "emnist_to_kuzushiji = dict()\n",
    "\n",
    "for idx in range(len(unique_kuzushiji)):\n",
    "    kuzushiji_to_emnist[unique_kuzushiji[idx]] = unique_emnist[idx]\n",
    "    emnist_to_kuzushiji[unique_emnist[idx]] = unique_kuzushiji[idx]"
   ],
   "metadata": {
    "collapsed": false,
    "pycharm": {
     "name": "#%%\n"
    }
   }
  },
  {
   "cell_type": "code",
   "execution_count": null,
   "outputs": [],
   "source": [
    "kuzushiji_translated_emnist = []\n",
    "for element_of_cluster in clustering_kuzushiji:\n",
    "    kuzushiji_translated_emnist.append(kuzushiji_to_emnist[str(element_of_cluster)])"
   ],
   "metadata": {
    "collapsed": false,
    "pycharm": {
     "name": "#%%\n"
    }
   }
  },
  {
   "cell_type": "code",
   "execution_count": null,
   "outputs": [],
   "source": [
    "picture_vector = []\n",
    "for cluster in kuzushiji_translated_emnist:\n",
    "    picture_vector.append(emnist_pages[np.random.choice(emnist_char_clusters[int(cluster)])])"
   ],
   "metadata": {
    "collapsed": false,
    "pycharm": {
     "name": "#%%\n"
    }
   }
  },
  {
   "cell_type": "code",
   "execution_count": null,
   "outputs": [],
   "source": [
    "columns = 80\n",
    "rows = 114\n",
    "cell = 32\n",
    "max_chars = columns * rows\n",
    "\n",
    "empty_sheet = np.zeros(shape=(rows * cell, columns * cell))"
   ],
   "metadata": {
    "collapsed": false,
    "pycharm": {
     "name": "#%%\n"
    }
   }
  },
  {
   "cell_type": "code",
   "execution_count": null,
   "outputs": [],
   "source": [
    "l_idx = 0\n",
    "translated_emnist_sheets = list()\n",
    "iter_picture_vector = iter(picture_vector)\n",
    "\n",
    "while True:\n",
    "    if l_idx == (len(picture_vector) + len(kuzushiji_spaces)):\n",
    "        break\n",
    "\n",
    "    sheet = copy.deepcopy(empty_sheet)\n",
    "\n",
    "    for i in range(0, sheet.shape[0], 32):\n",
    "        for j in range(0, sheet.shape[1], 32):\n",
    "            if l_idx in kuzushiji_spaces:\n",
    "                sheet[i:i + 32, j:j + 32] = (np.zeros(shape=(32, 32)))\n",
    "            else:\n",
    "                sheet[i:i + 32, j:j + 32] = next(iter_picture_vector)\n",
    "\n",
    "            l_idx += 1\n",
    "\n",
    "    translated_emnist_sheets.append(sheet)"
   ],
   "metadata": {
    "collapsed": false,
    "pycharm": {
     "name": "#%%\n"
    }
   }
  },
  {
   "cell_type": "code",
   "execution_count": null,
   "outputs": [],
   "source": [
    "path = 'data/translated_pages/emnist/'\n",
    "\n",
    "for idx in range(len(translated_emnist_sheets)):\n",
    "    img = cv2.convertScaleAbs(translated_emnist_sheets[idx], alpha=255.0)\n",
    "    cv2.imwrite(path + \"/emnist_\" + str(idx) + \".png\", img)"
   ],
   "metadata": {
    "collapsed": false,
    "pycharm": {
     "name": "#%%\n"
    }
   }
  },
  {
   "cell_type": "code",
   "execution_count": null,
   "outputs": [],
   "source": [],
   "metadata": {
    "collapsed": false,
    "pycharm": {
     "name": "#%%\n"
    }
   }
  },
  {
   "cell_type": "code",
   "execution_count": 73,
   "outputs": [],
   "source": [],
   "metadata": {
    "collapsed": false,
    "pycharm": {
     "name": "#%%\n"
    }
   }
  }
 ],
 "metadata": {
  "kernelspec": {
   "display_name": "Python 3",
   "language": "python",
   "name": "python3"
  },
  "language_info": {
   "codemirror_mode": {
    "name": "ipython",
    "version": 2
   },
   "file_extension": ".py",
   "mimetype": "text/x-python",
   "name": "python",
   "nbconvert_exporter": "python",
   "pygments_lexer": "ipython2",
   "version": "2.7.6"
  }
 },
 "nbformat": 4,
 "nbformat_minor": 0
}