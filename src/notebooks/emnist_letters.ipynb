{
 "cells": [
  {
   "cell_type": "code",
   "execution_count": null,
   "outputs": [],
   "source": [
    "import jupyter_fix\n",
    "\n",
    "jupyter_fix.fix_jupyter_path()"
   ],
   "metadata": {
    "collapsed": false
   }
  },
  {
   "cell_type": "code",
   "execution_count": 128,
   "outputs": [],
   "source": [
    "import pandas as pd\n",
    "import emnist\n",
    "import numpy as np\n",
    "\n",
    "emnist.list_datasets()\n",
    "\n",
    "emnist_csv = pd.read_csv(\"data/emnist/emnist-bymerge-mapping.txt\", delimiter=\" \", index_col=0, header=None)"
   ],
   "metadata": {
    "collapsed": false
   }
  },
  {
   "cell_type": "code",
   "execution_count": 129,
   "outputs": [],
   "source": [
    "character_mapping = dict()\n",
    "character_mapping_inverted = dict()\n",
    "\n",
    "emnist_ndarray = emnist_csv.to_numpy()\n",
    "\n",
    "for idx in range(len(emnist_ndarray)):\n",
    "    character_mapping[idx] = chr(int(emnist_ndarray[idx]))\n",
    "\n",
    "character_mapping_inverted = {v: k for k, v in character_mapping.items()}"
   ],
   "metadata": {
    "collapsed": false
   }
  },
  {
   "cell_type": "code",
   "execution_count": 130,
   "outputs": [],
   "source": [
    "from emnist import extract_training_samples\n",
    "\n",
    "images, labels = extract_training_samples(\"bymerge\")"
   ],
   "metadata": {
    "collapsed": false
   }
  },
  {
   "cell_type": "code",
   "execution_count": 131,
   "outputs": [
    {
     "data": {
      "text/plain": "array([[  0,   0,   0,   0,   0,   0,   0,   0,   0,   0,   0,   0,   0,\n          0,   0,   0,   0,   0,   0,   0,   0,   0,   0,   0,   0,   0,\n          0,   0],\n       [  0,   0,   0,   0,   0,   0,   0,   0,   0,   0,   0,   0,   0,\n          0,   0,   0,   0,   0,   0,   0,   0,   0,   0,   0,   0,   0,\n          0,   0],\n       [  0,   0,   0,   0,   0,   0,   0,   0,   0,   0,   0,   0,   0,\n          0,   2,   4,   4,   4,   4,   2,   0,   0,   0,   0,   0,   0,\n          0,   0],\n       [  0,   0,   0,   0,   0,   0,   0,   0,   0,   0,   0,   0,   3,\n         10,  77, 113, 127, 127, 114,  81,  20,   0,   0,   0,   0,   0,\n          0,   0],\n       [  0,   0,   0,   0,   0,   0,   0,   0,   0,   0,   3,  10,  79,\n        127, 220, 243, 250, 250, 245, 229, 110,   4,   0,   0,   0,   0,\n          0,   0],\n       [  0,   0,   0,   0,   0,   0,   0,   0,   0,   0,  20,  47, 159,\n        207, 247, 253, 254, 254, 253, 248, 139,  13,   5,   3,   2,   0,\n          0,   0],\n       [  0,   0,   0,   0,   0,   0,   0,   0,   0,   8, 122, 194, 247,\n        253, 254, 254, 254, 254, 254, 254, 222, 135, 110,  77,  44,   1,\n          0,   0],\n       [  0,   0,   0,   0,   0,   0,   0,   0,   2,  21, 170, 230, 254,\n        254, 255, 254, 254, 254, 253, 254, 247, 203, 154,  78,  45,   1,\n          0,   0],\n       [  0,   0,   0,   0,   0,   0,   0,   0,   6,  40, 216, 249, 254,\n        254, 252, 250, 232, 210, 190, 222, 253, 217, 129,   8,   2,   0,\n          0,   0],\n       [  0,   0,   0,   0,   0,   0,   0,   0,  22,  64, 222, 250, 254,\n        254, 235, 221, 170, 129, 109, 166, 247, 217, 127,   4,   0,   0,\n          0,   0],\n       [  0,   0,   0,   0,   0,   0,   1,  23, 127, 196, 247, 246, 222,\n        214, 127,  63,  21,   9,  11,  52, 220, 217, 127,   4,   0,   0,\n          0,   0],\n       [  0,   0,   0,   0,   0,   3,  22, 154, 234, 247, 219, 164,  52,\n         38,  18,   5,   0,   0,   2,  21, 173, 219, 140,   9,   0,   0,\n          0,   0],\n       [  0,   0,   0,   0,   0,  10,  47, 206, 250, 245, 163,  91,  11,\n          5,   2,   0,   0,   0,   1,  14, 153, 230, 172,  21,   2,   0,\n          0,   0],\n       [  0,   0,   0,   0,   7,  91, 163, 246, 219, 163,  35,   9,   0,\n          0,   0,   0,   0,   0,   4,  32, 204, 248, 215,  37,   4,   0,\n          0,   0],\n       [  0,   0,   0,   3,  22, 159, 218, 246, 164,  91,   9,   1,   0,\n          0,   0,   0,   0,   0,   4,  37, 215, 249, 215,  37,   4,   0,\n          0,   0],\n       [  0,   0,   0,  21,  81, 231, 250, 207,  47,  10,   0,   0,   0,\n          0,   0,   0,   0,   0,   9,  51, 222, 233, 172,  21,   2,   0,\n          0,   0],\n       [  0,   0,   0,  32, 114, 244, 246, 159,  22,   3,   0,   0,   0,\n          0,   0,   0,   0,   0,  22,  84, 233, 221, 140,   9,   0,   0,\n          0,   0],\n       [  0,   0,   0,  37, 127, 246, 222,  52,   1,   0,   0,   0,   0,\n          0,   0,   0,   0,   3,  83, 171, 250, 202, 113,   4,   0,   0,\n          0,   0],\n       [  0,   0,   0,  37, 127, 245, 217,  39,   0,   0,   0,   0,   0,\n          0,   0,   0,   9,  36, 175, 232, 220,  91,  33,   0,   0,   0,\n          0,   0],\n       [  0,   0,   0,  37, 125, 245, 221,  52,   1,   0,   0,   0,   0,\n          0,   2,   4,  36,  91, 220, 244, 175,  36,   8,   0,   0,   0,\n          0,   0],\n       [  0,   0,   0,  21,  81, 231, 244, 164,  36,  11,   9,  21,  37,\n         39,  82, 115, 176, 218, 230, 206,  78,   3,   0,   0,   0,   0,\n          0,   0],\n       [  0,   0,   0,   8,  46, 207, 242, 219,  96,  52,  51,  82, 125,\n        129, 172, 203, 225, 224, 171, 126,  32,   0,   0,   0,   0,   0,\n          0,   0],\n       [  0,   0,   0,   0,   7,  90, 163, 242, 233, 221, 221, 232, 245,\n        245, 229, 207, 127,  83,  22,   8,   0,   0,   0,   0,   0,   0,\n          0,   0],\n       [  0,   0,   0,   0,   1,  35,  90, 207, 242, 245, 245, 242, 221,\n        216, 170, 127,  46,  22,   3,   0,   0,   0,   0,   0,   0,   0,\n          0,   0],\n       [  0,   0,   0,   0,   0,   1,   7,  46, 114, 125, 125, 114,  50,\n         38,  21,   8,   0,   0,   0,   0,   0,   0,   0,   0,   0,   0,\n          0,   0],\n       [  0,   0,   0,   0,   0,   0,   0,   0,   4,   4,   4,   4,   0,\n          0,   0,   0,   0,   0,   0,   0,   0,   0,   0,   0,   0,   0,\n          0,   0],\n       [  0,   0,   0,   0,   0,   0,   0,   0,   0,   0,   0,   0,   0,\n          0,   0,   0,   0,   0,   0,   0,   0,   0,   0,   0,   0,   0,\n          0,   0],\n       [  0,   0,   0,   0,   0,   0,   0,   0,   0,   0,   0,   0,   0,\n          0,   0,   0,   0,   0,   0,   0,   0,   0,   0,   0,   0,   0,\n          0,   0]], dtype=uint8)"
     },
     "execution_count": 131,
     "metadata": {},
     "output_type": "execute_result"
    }
   ],
   "source": [
    "import matplotlib.pyplot as plt\n",
    "\n",
    "plt.style.use('grayscale')\n",
    "\n",
    "images[0]"
   ],
   "metadata": {
    "collapsed": false
   }
  },
  {
   "cell_type": "code",
   "execution_count": 132,
   "outputs": [
    {
     "name": "stdout",
     "output_type": "stream",
     "text": [
      "2\n"
     ]
    },
    {
     "data": {
      "text/plain": "<Figure size 640x480 with 1 Axes>",
      "image/png": "[encoded data removed]"
     },
     "metadata": {},
     "output_type": "display_data"
    }
   ],
   "source": [
    "val = 1234\n",
    "\n",
    "plt.imshow(images[val])\n",
    "print(chr(emnist_csv.iloc[labels[val]][1]))"
   ],
   "metadata": {
    "collapsed": false
   }
  },
  {
   "cell_type": "code",
   "execution_count": 133,
   "outputs": [],
   "source": [
    "bymerge_32 = np.empty(shape=(len(images), 32, 32))\n",
    "\n",
    "for symbol in range(len(images)):\n",
    "    bymerge_32[symbol] = np.pad(images[symbol], 2, mode='constant')"
   ],
   "metadata": {
    "collapsed": false
   }
  },
  {
   "cell_type": "code",
   "execution_count": 134,
   "outputs": [
    {
     "name": "stdout",
     "output_type": "stream",
     "text": [
      "S\n",
      "28\n"
     ]
    },
    {
     "data": {
      "text/plain": "<Figure size 640x480 with 1 Axes>",
      "image/png": "[encoded data removed]"
     },
     "metadata": {},
     "output_type": "display_data"
    }
   ],
   "source": [
    "val = 54121\n",
    "\n",
    "plt.imshow(bymerge_32[val])\n",
    "print(character_mapping[labels[val]])\n",
    "print(character_mapping_inverted[character_mapping[labels[val]]])"
   ],
   "metadata": {
    "collapsed": false
   }
  },
  {
   "cell_type": "code",
   "execution_count": 135,
   "outputs": [
    {
     "name": "stdout",
     "output_type": "stream",
     "text": [
      "S\n",
      "28\n"
     ]
    }
   ],
   "source": [
    "print(character_mapping[labels[val]])\n",
    "print(character_mapping_inverted[character_mapping[labels[val]]])"
   ],
   "metadata": {
    "collapsed": false
   }
  },
  {
   "cell_type": "code",
   "execution_count": 136,
   "outputs": [
    {
     "name": "stdout",
     "output_type": "stream",
     "text": [
      "0  loaded as number 0\n",
      "1  loaded as number 1\n",
      "2  loaded as number 2\n",
      "3  loaded as number 3\n",
      "4  loaded as number 4\n",
      "5  loaded as number 5\n",
      "6  loaded as number 6\n",
      "7  loaded as number 7\n",
      "8  loaded as number 8\n",
      "9  loaded as number 9\n",
      "A  loaded as number 10\n",
      "B  loaded as number 11\n",
      "C  loaded as number 12\n",
      "D  loaded as number 13\n",
      "E  loaded as number 14\n",
      "F  loaded as number 15\n",
      "G  loaded as number 16\n",
      "H  loaded as number 17\n",
      "I  loaded as number 18\n",
      "J  loaded as number 19\n",
      "K  loaded as number 20\n",
      "L  loaded as number 21\n",
      "M  loaded as number 22\n",
      "N  loaded as number 23\n",
      "O  loaded as number 24\n",
      "P  loaded as number 25\n",
      "Q  loaded as number 26\n",
      "R  loaded as number 27\n",
      "S  loaded as number 28\n",
      "T  loaded as number 29\n",
      "U  loaded as number 30\n",
      "V  loaded as number 31\n",
      "W  loaded as number 32\n",
      "X  loaded as number 33\n",
      "Y  loaded as number 34\n",
      "Z  loaded as number 35\n",
      "a  loaded as number 36\n",
      "b  loaded as number 37\n",
      "d  loaded as number 38\n",
      "e  loaded as number 39\n",
      "f  loaded as number 40\n",
      "g  loaded as number 41\n",
      "h  loaded as number 42\n",
      "n  loaded as number 43\n",
      "q  loaded as number 44\n",
      "r  loaded as number 45\n",
      "t  loaded as number 46\n"
     ]
    }
   ],
   "source": [
    "character_dict = dict()\n",
    "\n",
    "for index in list(character_mapping.keys()):\n",
    "    character_dict[index] = bymerge_32[np.where(labels == index)]\n",
    "    print(character_mapping[index], \" loaded as number \" + str(index))"
   ],
   "metadata": {
    "collapsed": false
   }
  },
  {
   "cell_type": "code",
   "execution_count": 137,
   "outputs": [
    {
     "name": "stdout",
     "output_type": "stream",
     "text": [
      "t\n"
     ]
    },
    {
     "data": {
      "text/plain": "<Figure size 640x480 with 1 Axes>",
      "image/png": "[encoded data removed]"
     },
     "metadata": {},
     "output_type": "display_data"
    }
   ],
   "source": [
    "plt.imshow(character_dict[46][0])\n",
    "print(character_mapping[46])"
   ],
   "metadata": {
    "collapsed": false
   }
  }
 ],
 "metadata": {
  "kernelspec": {
   "display_name": "Python 3",
   "language": "python",
   "name": "python3"
  },
  "language_info": {
   "codemirror_mode": {
    "name": "ipython",
    "version": 2
   },
   "file_extension": ".py",
   "mimetype": "text/x-python",
   "name": "python",
   "nbconvert_exporter": "python",
   "pygments_lexer": "ipython2",
   "version": "2.7.6"
  }
 },
 "nbformat": 4,
 "nbformat_minor": 0
}
